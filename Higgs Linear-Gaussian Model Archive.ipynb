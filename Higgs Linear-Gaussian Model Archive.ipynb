{
 "metadata": {
  "name": "",
  "signature": "sha256:300cb963de288026ca45fc5d97f4aa52ecf445f319ace63a93830ca0f8bb0b25"
 },
 "nbformat": 3,
 "nbformat_minor": 0,
 "worksheets": [
  {
   "cells": [
    {
     "cell_type": "markdown",
     "metadata": {},
     "source": [
      "# Kaggle Competition:  Higgs Boson Challenge\n",
      "\n",
      "Version 1.00\n",
      "*Linear-Gaussian Model*\n",
      "\n",
      "Original version - September 7, 2014\n",
      "\n",
      "Revised/documented - October 8 - 10, 2014\n",
      "\n",
      "#### Christian Bracher"
     ]
    },
    {
     "cell_type": "code",
     "collapsed": false,
     "input": [
      "# Data manipulation support\n",
      "import numpy as np\n",
      "import pandas as pd\n",
      "\n",
      "# Graphics support\n",
      "import matplotlib.pyplot as plt\n",
      "%matplotlib inline\n",
      "\n",
      "# Timing support\n",
      "import datetime as dt"
     ],
     "language": "python",
     "metadata": {},
     "outputs": [],
     "prompt_number": 1
    },
    {
     "cell_type": "markdown",
     "metadata": {},
     "source": [
      "### Analysis of Training Data Set\n",
      "\n",
      "First, let's read in the data, and take a look at it:"
     ]
    },
    {
     "cell_type": "code",
     "collapsed": false,
     "input": [
      "# Get training set\n",
      "\n",
      "training_file = '../training/training.csv'\n",
      "train_data_raw = pd.DataFrame.from_csv(training_file)"
     ],
     "language": "python",
     "metadata": {},
     "outputs": [],
     "prompt_number": 2
    },
    {
     "cell_type": "code",
     "collapsed": false,
     "input": [
      "# There are 32 columns in the training set\n",
      "# Note: The training data has two extra columns, 'weight', and the signal/background label\n",
      "\n",
      "train_data_cols = train_data_raw.columns.tolist()\n",
      "train_data_cols.sort()\n",
      "\n",
      "print train_data_cols"
     ],
     "language": "python",
     "metadata": {},
     "outputs": [
      {
       "output_type": "stream",
       "stream": "stdout",
       "text": [
        "['DER_deltaeta_jet_jet', 'DER_deltar_tau_lep', 'DER_lep_eta_centrality', 'DER_mass_MMC', 'DER_mass_jet_jet', 'DER_mass_transverse_met_lep', 'DER_mass_vis', 'DER_met_phi_centrality', 'DER_prodeta_jet_jet', 'DER_pt_h', 'DER_pt_ratio_lep_tau', 'DER_pt_tot', 'DER_sum_pt', 'Label', 'PRI_jet_all_pt', 'PRI_jet_leading_eta', 'PRI_jet_leading_phi', 'PRI_jet_leading_pt', 'PRI_jet_num', 'PRI_jet_subleading_eta', 'PRI_jet_subleading_phi', 'PRI_jet_subleading_pt', 'PRI_lep_eta', 'PRI_lep_phi', 'PRI_lep_pt', 'PRI_met', 'PRI_met_phi', 'PRI_met_sumet', 'PRI_tau_eta', 'PRI_tau_phi', 'PRI_tau_pt', 'Weight']\n"
       ]
      }
     ],
     "prompt_number": 3
    },
    {
     "cell_type": "code",
     "collapsed": false,
     "input": [
      "# Look at the discrete number of jets first:\n",
      "\n",
      "train_data_raw['PRI_jet_num'].value_counts()"
     ],
     "language": "python",
     "metadata": {},
     "outputs": [
      {
       "metadata": {},
       "output_type": "pyout",
       "prompt_number": 4,
       "text": [
        "0    99913\n",
        "1    77544\n",
        "2    50379\n",
        "3    22164\n",
        "dtype: int64"
       ]
      }
     ],
     "prompt_number": 4
    },
    {
     "cell_type": "code",
     "collapsed": false,
     "input": [
      "# Which columns have missing data?\n",
      "\n",
      "for cols in train_data_cols:\n",
      "    print cols,\n",
      "    test_missing = (train_data_raw[cols] == -999.000)\n",
      "    print test_missing.sum(), 'missing'\n"
     ],
     "language": "python",
     "metadata": {},
     "outputs": [
      {
       "output_type": "stream",
       "stream": "stdout",
       "text": [
        "DER_deltaeta_jet_jet 177457 missing\n",
        "DER_deltar_tau_lep 0 missing\n",
        "DER_lep_eta_centrality 177457 missing\n",
        "DER_mass_MMC 38114 missing\n",
        "DER_mass_jet_jet 177457 missing\n",
        "DER_mass_transverse_met_lep 0 missing\n",
        "DER_mass_vis 0 missing\n",
        "DER_met_phi_centrality 0 missing\n",
        "DER_prodeta_jet_jet 177457 missing\n",
        "DER_pt_h "
       ]
      },
      {
       "output_type": "stream",
       "stream": "stdout",
       "text": [
        "0 missing\n",
        "DER_pt_ratio_lep_tau 0 missing\n",
        "DER_pt_tot 0 missing\n",
        "DER_sum_pt 0 missing\n",
        "Label "
       ]
      },
      {
       "output_type": "stream",
       "stream": "stdout",
       "text": [
        "0 missing\n",
        "PRI_jet_all_pt 0 missing\n",
        "PRI_jet_leading_eta 99913 missing\n",
        "PRI_jet_leading_phi 99913 missing\n",
        "PRI_jet_leading_pt 99913 missing\n",
        "PRI_jet_num 0 missing\n",
        "PRI_jet_subleading_eta 177457 missing\n",
        "PRI_jet_subleading_phi 177457 missing\n",
        "PRI_jet_subleading_pt 177457 missing\n",
        "PRI_lep_eta "
       ]
      },
      {
       "output_type": "stream",
       "stream": "stdout",
       "text": [
        "0 missing\n",
        "PRI_lep_phi 0 missing\n",
        "PRI_lep_pt 0 missing\n",
        "PRI_met 0 missing\n",
        "PRI_met_phi 0 missing\n",
        "PRI_met_sumet 0 missing\n",
        "PRI_tau_eta 0 missing\n",
        "PRI_tau_phi 0 missing\n",
        "PRI_tau_pt 0 missing\n",
        "Weight 0 missing\n"
       ]
      }
     ],
     "prompt_number": 5
    },
    {
     "cell_type": "code",
     "collapsed": false,
     "input": [
      "# How do Higgs events distribute over number of jets?\n",
      "\n",
      "for jet_num in range(0, 4):\n",
      "    jet_num_filter = (train_data_raw['PRI_jet_num'] == jet_num)\n",
      "    print train_data_raw[jet_num_filter]['Label'].value_counts()"
     ],
     "language": "python",
     "metadata": {},
     "outputs": [
      {
       "output_type": "stream",
       "stream": "stdout",
       "text": [
        "b    74421\n",
        "s    25492\n",
        "dtype: int64\n",
        "b    49834\n",
        "s    27710\n",
        "dtype: int64\n",
        "s    25734\n",
        "b    24645\n",
        "dtype: int64\n",
        "b    15433\n",
        "s     6731\n",
        "dtype: int64"
       ]
      },
      {
       "output_type": "stream",
       "stream": "stdout",
       "text": [
        "\n"
       ]
      }
     ],
     "prompt_number": 6
    },
    {
     "cell_type": "code",
     "collapsed": false,
     "input": [
      "# Let's split the set into individual sets for each jet number:\n",
      "\n",
      "jet_num_filter = (train_data_raw['PRI_jet_num'] == 0)\n",
      "jet_set_0 = train_data_raw[jet_num_filter]\n",
      "\n",
      "jet_num_filter = (train_data_raw['PRI_jet_num'] == 1)\n",
      "jet_set_1 = train_data_raw[jet_num_filter]\n",
      "\n",
      "jet_num_filter = (train_data_raw['PRI_jet_num'] == 2)\n",
      "jet_set_2 = train_data_raw[jet_num_filter]\n",
      "\n",
      "jet_num_filter = (train_data_raw['PRI_jet_num'] == 3)\n",
      "jet_set_3 = train_data_raw[jet_num_filter]\n",
      "\n",
      "# Release memory\n",
      "\n",
      "del train_data_raw"
     ],
     "language": "python",
     "metadata": {},
     "outputs": [],
     "prompt_number": 7
    },
    {
     "cell_type": "code",
     "collapsed": false,
     "input": [
      "# Drop undefined columns from data:\n",
      "\n",
      "def clean_jet_sets(jet_set_frame):\n",
      "    \n",
      "    data_cols = jet_set_frame.columns.tolist()\n",
      "    \n",
      "    for cols in data_cols:\n",
      "        test_missing = (jet_set_frame[cols] == -999.000)\n",
      "        if (test_missing.all()  == True):\n",
      "            jet_set_frame = jet_set_frame.drop(cols, axis = 1)\n",
      "            print cols\n",
      "            \n",
      "    return jet_set_frame\n",
      "\n",
      "jet_set_0 = clean_jet_sets(jet_set_0)\n",
      "jet_set_1 = clean_jet_sets(jet_set_1)\n",
      "jet_set_2 = clean_jet_sets(jet_set_2)\n",
      "jet_set_3 = clean_jet_sets(jet_set_3)"
     ],
     "language": "python",
     "metadata": {},
     "outputs": [
      {
       "output_type": "stream",
       "stream": "stdout",
       "text": [
        "DER_deltaeta_jet_jet\n",
        "DER_mass_jet_jet\n",
        "DER_prodeta_jet_jet\n",
        "DER_lep_eta_centrality"
       ]
      },
      {
       "output_type": "stream",
       "stream": "stdout",
       "text": [
        "\n",
        "PRI_jet_leading_pt\n",
        "PRI_jet_leading_eta"
       ]
      },
      {
       "output_type": "stream",
       "stream": "stdout",
       "text": [
        "\n",
        "PRI_jet_leading_phi\n",
        "PRI_jet_subleading_pt\n",
        "PRI_jet_subleading_eta\n",
        "PRI_jet_subleading_phi"
       ]
      },
      {
       "output_type": "stream",
       "stream": "stdout",
       "text": [
        "\n",
        "DER_deltaeta_jet_jet\n",
        "DER_mass_jet_jet"
       ]
      },
      {
       "output_type": "stream",
       "stream": "stdout",
       "text": [
        "\n",
        "DER_prodeta_jet_jet\n",
        "DER_lep_eta_centrality\n",
        "PRI_jet_subleading_pt"
       ]
      },
      {
       "output_type": "stream",
       "stream": "stdout",
       "text": [
        "\n",
        "PRI_jet_subleading_eta\n",
        "PRI_jet_subleading_phi\n"
       ]
      }
     ],
     "prompt_number": 8
    },
    {
     "cell_type": "code",
     "collapsed": false,
     "input": [
      "# There's no jet in jet_set_0, so let's drop these variables, too:\n",
      "\n",
      "# jet_set_0['PRI_jet_all_pt'].value_counts()\n",
      "jet_set_0 = jet_set_0.drop(['PRI_jet_num', 'PRI_jet_all_pt'], axis = 1)\n",
      "\n",
      "# Also, 'DER_pt_h' always equals 'DER_pt_tot':\n",
      "jet_set_0 = jet_set_0.drop('DER_pt_h', axis = 1)\n",
      "\n",
      "# Similarly, there is a single jet in jet_set_1, so its transversal momentum equals the total:\n",
      "# (jet_set_1['PRI_jet_all_pt'] - jet_set_1['PRI_jet_leading_pt']).value_counts()\n",
      "\n",
      "jet_set_1 = jet_set_1.drop(['PRI_jet_num', 'PRI_jet_all_pt'], axis = 1)\n",
      "\n",
      "# For two jets, the total transversal momentum is the sum of the momentum of both jets -\n",
      "# so, there is no new information in the total\n",
      "\n",
      "jet_set_2 = jet_set_2.drop(['PRI_jet_num', 'PRI_jet_all_pt'], axis = 1)\n",
      "\n",
      "# Only the three-jet case is different:\n",
      "\n",
      "jet_set_3 = jet_set_3.drop('PRI_jet_num', axis = 1)\n",
      "\n",
      "# In both the two- and three-jet cases, the column 'DER_deltaeta_jet_jet' is simply the\n",
      "# absolute value of the difference between 'PRI_jet_leading_eta' and 'PRI_jet_subleading_eta'\n",
      "# So, at most, the sign of the difference would be of interest, as 'DER_deltaeta_jet_jet' is\n",
      "# a linear combination of the two primary data columns.  For now, simply delete:\n",
      "\n",
      "jet_set_2 = jet_set_2.drop('DER_deltaeta_jet_jet', axis = 1)\n",
      "jet_set_3 = jet_set_3.drop('DER_deltaeta_jet_jet', axis = 1)"
     ],
     "language": "python",
     "metadata": {},
     "outputs": [],
     "prompt_number": 9
    },
    {
     "cell_type": "code",
     "collapsed": false,
     "input": [
      "# Note that DER_pt_tot is unique in that it can drop to zero - there are 38 such instances for zero jets\n",
      "\n",
      "test = pd.DataFrame()\n",
      "test['0 jets'] = jet_set_0['DER_pt_tot'][(jet_set_0['DER_pt_tot'] == 0)]\n",
      "test['1 jet']  = jet_set_1['DER_pt_tot'][(jet_set_1['DER_pt_tot'] == 0)]\n",
      "test['2 jets'] = jet_set_2['DER_pt_tot'][(jet_set_2['DER_pt_tot'] == 0)]\n",
      "test['3 jets'] = jet_set_3['DER_pt_tot'][(jet_set_3['DER_pt_tot'] == 0)]\n",
      "\n",
      "test.describe().ix['count', :]"
     ],
     "language": "python",
     "metadata": {},
     "outputs": [
      {
       "metadata": {},
       "output_type": "pyout",
       "prompt_number": 10,
       "text": [
        "0 jets    38\n",
        "1 jet      0\n",
        "2 jets     0\n",
        "3 jets     0\n",
        "Name: count, dtype: float64"
       ]
      }
     ],
     "prompt_number": 10
    },
    {
     "cell_type": "code",
     "collapsed": false,
     "input": [
      "# All the remaining undefined values are in the column 'DER_mass_MMC':\n",
      "\n",
      "def find_undefined_values(jet_set_frame):\n",
      "    \n",
      "    data_cols = list(jet_set_frame.columns)\n",
      "    for cols in data_cols:\n",
      "        test_missing = (jet_set_frame[cols] == -999.000)\n",
      "        if (test_missing.any()  == True):\n",
      "            print cols\n",
      "\n",
      "find_undefined_values(jet_set_0)\n",
      "find_undefined_values(jet_set_1)\n",
      "find_undefined_values(jet_set_2)\n",
      "find_undefined_values(jet_set_3)"
     ],
     "language": "python",
     "metadata": {},
     "outputs": [
      {
       "output_type": "stream",
       "stream": "stdout",
       "text": [
        "DER_mass_MMC\n",
        "DER_mass_MMC\n",
        "DER_mass_MMC"
       ]
      },
      {
       "output_type": "stream",
       "stream": "stdout",
       "text": [
        "\n",
        "DER_mass_MMC\n"
       ]
      }
     ],
     "prompt_number": 11
    },
    {
     "cell_type": "code",
     "collapsed": false,
     "input": [
      "# What is the ultimate label of columns with missing data?\n",
      "\n",
      "def missing_value_outcomes(jet_set_frame):\n",
      "    missing_list = (jet_set_frame['DER_mass_MMC'] == -999.000)\n",
      "    labels = jet_set_frame['Label']\n",
      "    print labels[missing_list].value_counts()\n",
      "    \n",
      "missing_value_outcomes(jet_set_0)\n",
      "missing_value_outcomes(jet_set_1)\n",
      "missing_value_outcomes(jet_set_2)\n",
      "missing_value_outcomes(jet_set_3)\n",
      "\n",
      "# They are predominantly background - but not all..."
     ],
     "language": "python",
     "metadata": {},
     "outputs": [
      {
       "output_type": "stream",
       "stream": "stdout",
       "text": [
        "b    24564\n",
        "s     1559\n",
        "dtype: int64\n",
        "b    6857\n",
        "s     705\n",
        "dtype: int64\n",
        "b    2485\n",
        "s     467\n",
        "dtype: int64\n",
        "b    1373\n",
        "s     104\n",
        "dtype: int64\n"
       ]
      }
     ],
     "prompt_number": 12
    },
    {
     "cell_type": "markdown",
     "metadata": {},
     "source": [
      "### Split Training Data Into Individual Sets\n",
      "\n",
      "Create a pair of sets each for each number of jets - one for events with determined mass, one without"
     ]
    },
    {
     "cell_type": "code",
     "collapsed": false,
     "input": [
      "# Let's separate each jet data set into mass and no-mass events\n",
      "\n",
      "def separate_by_mass(jet_set):\n",
      "\n",
      "    missing_mass_filter = (jet_set['DER_mass_MMC'] < 0)\n",
      "    jet_set_none = jet_set[missing_mass_filter]\n",
      "    \n",
      "    mass_filter = (jet_set['DER_mass_MMC'] > 0)\n",
      "    jet_set_mass = jet_set[mass_filter]\n",
      "    \n",
      "    return jet_set_mass, jet_set_none.drop('DER_mass_MMC', axis = 1)\n",
      "\n",
      "jet_set_0, jet_set_none_0 = separate_by_mass(jet_set_0)\n",
      "jet_set_1, jet_set_none_1 = separate_by_mass(jet_set_1)\n",
      "jet_set_2, jet_set_none_2 = separate_by_mass(jet_set_2)\n",
      "jet_set_3, jet_set_none_3 = separate_by_mass(jet_set_3)"
     ],
     "language": "python",
     "metadata": {},
     "outputs": [],
     "prompt_number": 13
    },
    {
     "cell_type": "markdown",
     "metadata": {},
     "source": [
      "### Increase Number of Features by Partitioning the Data\n",
      "\n",
      "Use \"Gaussian splits\" to increase the number of features for each set:\n",
      "Find overlap of features with a sequence of shifted and scaled Gaussians\n",
      "\n",
      "Data preparation:  There is a rather uneven distribution of the momenta in the data set that skews to small values.  \n",
      "To generate a more uniform distribution, I will take the logarithm of the data first.\n",
      "\n",
      "Similarly, weights spread over 4 decades, so I will use again their logarithm as the target function for regression.\n",
      "\n",
      "All the data (save for angle differences) will also be normalized so that their mean is zero, and their variance is one."
     ]
    },
    {
     "cell_type": "code",
     "collapsed": false,
     "input": [
      "# Preparation - Turn momenta, weights into logarithms, normalize non-angular data\n",
      "\n",
      "def logarithmic_momentum(jet_set):\n",
      "    # Replace momentum data with its logarithm\n",
      "    # I will add a small offset to avoid trouble with (rare) zero entries\n",
      "\n",
      "    cols = list(jet_set.columns)\n",
      "  \n",
      "    for column in cols:\n",
      "        if ((column.count('_phi') + column.count('eta')) == 0):\n",
      "            # Select momentum features only:\n",
      "            \n",
      "            jet_set[column+'_log'] = np.log(jet_set[column] + 1e-8)\n",
      "            jet_set = jet_set.drop(column, axis = 1)\n",
      "            \n",
      "    return jet_set\n",
      "\n",
      "def normalize_data(jet_set):\n",
      "    # Normalize all non-angular data\n",
      "   \n",
      "    cols = list(jet_set.columns)\n",
      "    \n",
      "    for column in cols:\n",
      "        if ((column.count('_log') + column.count('_eta')) > 0):\n",
      "\n",
      "            avg = jet_set[column].mean()\n",
      "            dev = jet_set[column].std()\n",
      "\n",
      "            jet_set[column] = ((jet_set[column] - avg) / dev)\n",
      "                       \n",
      "    return jet_set\n",
      "\n",
      "def logarithmic_weights(jet_set):\n",
      "    # For training set, split off scoring information, \n",
      "    # and add the logarithm of the weight as separate column.\n",
      "    \n",
      "    jet_set_outcome = jet_set[['Weight', 'Label']].copy()\n",
      "    jet_set_outcome['log(Weight)'] = np.log(jet_set_outcome['Weight'])\n",
      "\n",
      "    # Remove target information from data set\n",
      "\n",
      "    jet_set = jet_set.drop(['Weight', 'Label'], axis = 1)\n",
      "    \n",
      "    return jet_set, jet_set_outcome\n",
      "    "
     ],
     "language": "python",
     "metadata": {},
     "outputs": [],
     "prompt_number": 14
    },
    {
     "cell_type": "code",
     "collapsed": false,
     "input": [
      "# Increase number of features by introducing Gaussian splits\n",
      "\n",
      "# Support for normal distribution\n",
      "from scipy.stats import norm\n",
      "\n",
      "def Gaussify_Linear(jet_set, column, num_col):\n",
      "    # Gaussian splits for non-periodic data (everything but angles)\n",
      "    \n",
      "    # Create a set of Gaussians\n",
      "    \n",
      "    # Find supports (spaced for equal weights in a normal distribution):\n",
      "    support = [norm.ppf(float(z) / (num_col + 1)) for z in range(1, num_col+1)]\n",
      "    \n",
      "    # Find widths:\n",
      "    width_ratio = 2.0 * num_col\n",
      "    \n",
      "    width = [width_ratio * norm.pdf(support[i]) for i in range(0, num_col)]\n",
      "\n",
      "    # Create columns using overlap with the normal pdf:\n",
      "    \n",
      "    for num in range(0, num_col):\n",
      "        column_name = column + '_' + str(num + 1)\n",
      "        \n",
      "        jet_set[column_name] = ((jet_set[column] - support[num]) * width[num])\n",
      "        jet_set[column_name] = norm.pdf(jet_set[column_name])\n",
      "    \n",
      "    return jet_set\n",
      "\n",
      "def Gaussify_Angle(jet_set, column, num_col, ref_angle_column):\n",
      "    # Gaussian splits for angular data:\n",
      "    # Create uniformly spaced supports around the unit circle\n",
      "    \n",
      "    # Find supports:\n",
      "    support = [(2.0 * np.pi * z) / float(num_col) for z in range(0, num_col)]\n",
      "    \n",
      "    # Define width:\n",
      "    width = .4 * float(num_col)\n",
      "\n",
      "    # Create columns using the normal pdf:\n",
      "    \n",
      "    for num in range(0, num_col):\n",
      "        column_name = column + '_' + str(num + 1)\n",
      "        \n",
      "        jet_set[column_name] = np.cos(jet_set[column] - jet_set[ref_angle_column] - support[num]) - 1.0\n",
      "        jet_set[column_name] = norm.pdf(jet_set[column_name] * width)\n",
      "    \n",
      "    return jet_set.drop(column, axis = 1)\n",
      "\n",
      "def GaussifyData(jet_set, num_col, ref_angle_column = 'PRI_tau_phi'):\n",
      "    # Create Gaussian splits for linear and angular data\n",
      "    \n",
      "    cols = list(jet_set.columns)\n",
      "    \n",
      "    # Only angle differences are of importance (rotational symmetry)\n",
      "    cols.remove(ref_angle_column)\n",
      "    \n",
      "    for column in cols:\n",
      "        if ((column.count('_log') + column.count('eta')) > 0):\n",
      "            # Linear normalized data\n",
      "            \n",
      "            jet_set = Gaussify_Linear(jet_set, column, num_col)\n",
      "            \n",
      "        if (column.count('_phi') > 0):\n",
      "            # Angular data\n",
      "            \n",
      "            jet_set = Gaussify_Angle(jet_set, column, num_col, ref_angle_column)\n",
      "            \n",
      "    return jet_set.drop(ref_angle_column, axis = 1)"
     ],
     "language": "python",
     "metadata": {},
     "outputs": [],
     "prompt_number": 15
    },
    {
     "cell_type": "code",
     "collapsed": false,
     "input": [
      "# Combine operations into a single method\n",
      "# The third parameter indicates training or predicting mode (default: 'train');\n",
      "# if 'predict', no analysis of weights will be done, and an outcome of 'None' is reported\n",
      "\n",
      "def gaussian_model_prep(jet_set, gauss_components, mode = 'train'):\n",
      "\n",
      "    # This to avoid erratic behavior by pandas:\n",
      "\n",
      "    jet_set_copy = jet_set.copy()\n",
      "    \n",
      "    # Isolate scoring information (only for training)\n",
      "    \n",
      "    if (mode == 'train'):        \n",
      "        jet_set_copy, jet_set_outcome = logarithmic_weights(jet_set_copy)\n",
      "        \n",
      "    else:\n",
      "        jet_set_outcome = None\n",
      "    \n",
      "    # Prepare momentum data and normalize linear data\n",
      "   \n",
      "    jet_set_copy = logarithmic_momentum(jet_set_copy)\n",
      "    jet_set_norm = normalize_data(jet_set_copy)\n",
      "\n",
      "    # Gaussian convolution of variables, angles\n",
      "    \n",
      "    jet_set_norm = GaussifyData(jet_set_norm, gauss_components)\n",
      "    \n",
      "    # Remove copy kept for pandas quirks\n",
      "\n",
      "    del jet_set_copy\n",
      "    \n",
      "    return jet_set_norm, jet_set_outcome"
     ],
     "language": "python",
     "metadata": {},
     "outputs": [],
     "prompt_number": 16
    },
    {
     "cell_type": "markdown",
     "metadata": {},
     "source": [
      "### Supervised Learning - Validation of Approach\n",
      "\n",
      "I will use a simple linear regressor for the logarithm of the weight *w* of an event.\n",
      "(This is based on the observation that the distinction between signal and background\n",
      " is strictly a function of the weight.)"
     ]
    },
    {
     "cell_type": "code",
     "collapsed": false,
     "input": [
      "# Simple linear regressor for data sets:\n",
      "\n",
      "from sklearn.linear_model import LinearRegression\n",
      "from sklearn.cross_validation import train_test_split\n",
      "\n",
      "def Simple_Linear_Regression(jet_set_data, jet_set_outcome):\n",
      "    \n",
      "    # Use logarithmic weights\n",
      "\n",
      "    weights   = jet_set_outcome['log(Weight)'].as_matrix()\n",
      "    norm_data = jet_set_data.as_matrix()\n",
      "    \n",
      "    # Index (eventIDs) for data\n",
      "    \n",
      "    index = list(jet_set_outcome.index)\n",
      "\n",
      "    # Use random split in training data for validation\n",
      "    \n",
      "    X_train, X_test, y_train, y_test, i_train, i_test = train_test_split(norm_data, weights, index)\n",
      "    \n",
      "    # Fit regression model\n",
      "    \n",
      "    LinR = LinearRegression()\n",
      "    LinR.fit(X_train, y_train)\n",
      "\n",
      "    # Write success message\n",
      "    print \"done!  (Maximum regression coefficient:\", max(LinR.coef_), \")\"\n",
      "\n",
      "    # Predict log(weight)\n",
      "    \n",
      "    prediction = LinR.predict(X_test)\n",
      "\n",
      "    # Return data frame with actual and estimated weights for test set\n",
      "    \n",
      "    results = pd.DataFrame()\n",
      "    results['actual weight'] = pd.Series(data = np.exp(y_test), index = i_test)\n",
      "    results['predicted weight']   = pd.Series(data = np.exp(prediction), index = i_test)\n",
      "    \n",
      "    return results"
     ],
     "language": "python",
     "metadata": {},
     "outputs": [],
     "prompt_number": 17
    },
    {
     "cell_type": "code",
     "collapsed": false,
     "input": [
      "# Linear Regression, Using Gaussian Splits\n",
      "\n",
      "def run_gaussian_linear(jet_sets, split_nums):\n",
      "    \n",
      "    # Assumes that the jet_sets are already determined\n",
      "    # The split_nums indicate how many Gaussian windows are used\n",
      "\n",
      "    compare = pd.DataFrame(columns = ['actual weight', 'predicted weight'])\n",
      "    \n",
      "    for jets in range(0, len(jet_sets)):\n",
      "    \n",
      "        # Yield message:\n",
      "        print \"Evaluating set \", jets, \" ...\",\n",
      "    \n",
      "        jet_set_data, jet_set_outcome = gaussian_model_prep(jet_sets[jets], split_nums[jets])\n",
      "        compare = compare.append(Simple_Linear_Regression(jet_set_data, jet_set_outcome))\n",
      "\n",
      "    # Return indexed set of actual weights and linear approximations\n",
      "    \n",
      "    return compare\n",
      "\n",
      "# Include every subset in the analysis\n",
      "jet_sets = [jet_set_0, jet_set_none_0, jet_set_1, jet_set_none_1, jet_set_2, jet_set_none_2, jet_set_3, jet_set_none_3]\n",
      "\n",
      "# Use 8-fold Gaussian splits\n",
      "split_nums = [8, 8, 8, 8, 8, 8, 8, 8]\n",
      "\n",
      "# Run regressor\n",
      "compare = run_gaussian_linear(jet_sets, split_nums)\n",
      "\n",
      "# Compare basic statistics of training set weights, predicted weights\n",
      "print compare.describe()"
     ],
     "language": "python",
     "metadata": {},
     "outputs": [
      {
       "output_type": "stream",
       "stream": "stdout",
       "text": [
        "Evaluating set  0  ... "
       ]
      },
      {
       "output_type": "stream",
       "stream": "stdout",
       "text": [
        "done!  (Maximum regression coefficient: 4.90449277886 )\n",
        "Evaluating set "
       ]
      },
      {
       "output_type": "stream",
       "stream": "stdout",
       "text": [
        " 1  ... "
       ]
      },
      {
       "output_type": "stream",
       "stream": "stdout",
       "text": [
        "done!  (Maximum regression coefficient: 14.6833641061 )\n",
        "Evaluating set  2  ... "
       ]
      },
      {
       "output_type": "stream",
       "stream": "stdout",
       "text": [
        "done!  (Maximum regression coefficient: 6.04089089768 )\n",
        "Evaluating set "
       ]
      },
      {
       "output_type": "stream",
       "stream": "stdout",
       "text": [
        " 3  ... "
       ]
      },
      {
       "output_type": "stream",
       "stream": "stdout",
       "text": [
        "done!  (Maximum regression coefficient: 32.6695716965 )\n",
        "Evaluating set  4  ... "
       ]
      },
      {
       "output_type": "stream",
       "stream": "stdout",
       "text": [
        "done!  (Maximum regression coefficient: 33.3543441303 )\n",
        "Evaluating set  5  ... "
       ]
      },
      {
       "output_type": "stream",
       "stream": "stdout",
       "text": [
        "done!  (Maximum regression coefficient: 35.0998570169 )\n",
        "Evaluating set  6  ... "
       ]
      },
      {
       "output_type": "stream",
       "stream": "stdout",
       "text": [
        "done!  (Maximum regression coefficient: 19.5438800145 )\n",
        "Evaluating set  7  ... "
       ]
      },
      {
       "output_type": "stream",
       "stream": "stdout",
       "text": [
        "done!  (Maximum regression coefficient: 48.0485580868 )\n",
        "       actual weight  predicted weight\n",
        "count   62503.000000      62503.000000\n",
        "mean        1.652670          1.142103\n",
        "std         1.877765          2.184252\n",
        "min         0.001502          0.000222\n",
        "25%         0.018636          0.040444\n",
        "50%         1.166067          0.253094\n",
        "75%         2.407976          1.377326\n",
        "max         7.817383         82.982326\n"
       ]
      }
     ],
     "prompt_number": 18
    },
    {
     "cell_type": "markdown",
     "metadata": {},
     "source": [
      "### Visualize Correlation Between Predicted and Actual Weights"
     ]
    },
    {
     "cell_type": "code",
     "collapsed": false,
     "input": [
      "# Show correlation between weight functionals:\n",
      "\n",
      "def show_correlation(weight_col_1, weight_col_2):\n",
      "    \n",
      "    plt.xlim(.001, 10.0)\n",
      "    plt.ylim(.001, 10.0)\n",
      "    plt.xlabel(weight_col_1)\n",
      "    plt.ylabel(weight_col_2)\n",
      "    plt.loglog()\n",
      "    plt.scatter(compare[weight_col_1], compare[weight_col_2], alpha = 0.005)\n",
      "    plt.show()\n",
      "    \n",
      "show_correlation('actual weight', 'predicted weight')    "
     ],
     "language": "python",
     "metadata": {},
     "outputs": [
      {
       "metadata": {},
       "output_type": "display_data",
       "png": "[encoded data removed]",
       "text": [
        "<matplotlib.figure.Figure at 0x10ffa1d0>"
       ]
      }
     ],
     "prompt_number": 19
    },
    {
     "cell_type": "markdown",
     "metadata": {},
     "source": [
      "### Scoring the Test Set of Events\n",
      "\n",
      "This section defines the scoring metric from the competition, then\n",
      "proceeds to score the split-off test sample.  Scoring yields a score as a\n",
      "function of the \"cutoff weight,\" the threshold used to distinguish\n",
      "signal and background.\n",
      "\n",
      "The maximum of this function is the predicted score that the linear\n",
      "regressor model can achieve in classifying the test set of events."
     ]
    },
    {
     "cell_type": "code",
     "collapsed": false,
     "input": [
      "# The Competition Scoring Function\n",
      "# Scoring metric (with proper weighting):\n",
      "\n",
      "def score_metric(signal, background, b_reg = 10.0):\n",
      "    \n",
      "    bg_total = background + b_reg\n",
      "    aux = signal + bg_total\n",
      "    \n",
      "    return np.sqrt(2.0 * (aux * np.log(aux / bg_total) - signal))"
     ],
     "language": "python",
     "metadata": {},
     "outputs": [],
     "prompt_number": 20
    },
    {
     "cell_type": "code",
     "collapsed": false,
     "input": [
      "# Score a sample estimate\n",
      "# 'compare' is a data frame containing the sample actual and estimated weights\n",
      "# 'regressor_name' is the name of the column containing the estimated data (default: 'predicted weight')\n",
      "# For ideal curve, choose regressor_name = 'actual weight'\n",
      "\n",
      "# Output:  Estimated score, best threshold, score vs. threshold data series, \n",
      "#          data frame with rank and predicted label\n",
      "\n",
      "def score_sample(compare, regressor_name = 'predicted weight'):\n",
      "\n",
      "    # We know that label = boson if weight < 0.05\n",
      "\n",
      "    threshold = .05\n",
      "\n",
      "    # Sample and training data size\n",
      "    \n",
      "    N_total = 250000.0\n",
      "    N_set = len(compare)\n",
      "\n",
      "    # Sort the weight table by increasing estimated weight:\n",
      "\n",
      "    weight_table_sorted = compare.sort(columns = regressor_name, ascending = True)\n",
      "\n",
      "    # Now, create lists of weights as a function of the cut-off,\n",
      "\n",
      "    cutoff_values = list(weight_table_sorted[regressor_name])\n",
      "    actual_weight = list(weight_table_sorted['actual weight'])\n",
      "    \n",
      "    # A placeholder for the score function   \n",
      "    \n",
      "    scores = []\n",
      "\n",
      "    # Sum of weights for true and false positives\n",
      "    \n",
      "    signal = 0.0\n",
      "    background = 0.0\n",
      "\n",
      "    # Keep track of maximum score and threshold weight\n",
      "    \n",
      "    max_score = 0.0\n",
      "    threshold_estimate = 0.0\n",
      "\n",
      "    # Determine score as a function of the threshold\n",
      "    \n",
      "    for cutoff in range(0, N_set):\n",
      "\n",
      "        # Extract actual weight of event\n",
      "\n",
      "        weight = actual_weight[cutoff]\n",
      "\n",
      "        # Calculate total signal/background:\n",
      "        \n",
      "        if (weight < threshold):\n",
      "            signal += weight\n",
      "        else:\n",
      "            background += weight\n",
      "\n",
      "        # Correct for sample size:\n",
      "\n",
      "        signal_ex     = (N_total / N_set) * signal\n",
      "        background_ex = (N_total / N_set) * background\n",
      "\n",
      "        # Determine score, maximum score:\n",
      "\n",
      "        current_score = score_metric(signal_ex, background_ex)\n",
      "\n",
      "        # Keep track of maximum score, and corresponding threshold\n",
      "        \n",
      "        if (current_score > max_score):\n",
      "            max_score  = current_score\n",
      "            threshold_estimate  = cutoff_values[cutoff]\n",
      "\n",
      "        # Add to series of scores\n",
      "            \n",
      "        scores.append(current_score)\n",
      "        \n",
      "    # Create a pandas Series object containing score as function of the estimated weight\n",
      "    \n",
      "    score_series = pd.Series(data = scores, index = cutoff_values, name = 'Scoring Curve')\n",
      "    \n",
      "    # Create a pandas data frame containing rank and estimated event type, sorted by eventID\n",
      "    # (as requested by the submission format)\n",
      "    \n",
      "    # First, build a list of ranks\n",
      "    # ('countdown - style' since strongest signal has highest rank)\n",
      "    \n",
      "    ranks = [event for event in range(N_set, 0, -1)]\n",
      "    \n",
      "    # Second, put rank and estimated weight together in a data frame, with eventIDs as index:\n",
      "    \n",
      "    prediction_index = compare.index.rename('EventId')\n",
      "    prediction = pd.DataFrame(data = zip(ranks, cutoff_values), index = prediction_index, columns = ['RankOrder', 'Weight'])\n",
      "    prediction.index.rename\n",
      "    \n",
      "    # Third, sort by index:\n",
      "    \n",
      "    prediction = prediction.sort_index()\n",
      "    \n",
      "    # Fourth, create list of labels\n",
      "    \n",
      "    def class_label(weight):\n",
      "        if (weight > threshold_estimate):\n",
      "            return 'b'\n",
      "        else:\n",
      "            return 's'    \n",
      "    \n",
      "    prediction['Class'] = prediction['Weight'].apply(class_label)\n",
      "    \n",
      "    # Fifth, drop weights:\n",
      "    \n",
      "    prediction = prediction.drop('Weight', axis = 1)\n",
      "\n",
      "    # Return results\n",
      "    \n",
      "    return max_score, threshold_estimate, score_series, prediction\n",
      "\n",
      "max_score, threshold, score_series, prediction = score_sample(compare, 'predicted weight')\n",
      "    \n",
      "print 'Max Score', max_score, 'at threshold', threshold\n",
      "print '(All-Boson trivial score:', score_series.iloc[-1] ,')'"
     ],
     "language": "python",
     "metadata": {},
     "outputs": [
      {
       "output_type": "stream",
       "stream": "stdout",
       "text": [
        "Max Score 2.74505876434 at threshold 0.0507589049679\n",
        "(All-Boson trivial score: 1.07813533749 )\n"
       ]
      }
     ],
     "prompt_number": 21
    },
    {
     "cell_type": "code",
     "collapsed": false,
     "input": [
      "# Visualize score vs. threshold curve\n",
      "\n",
      "plt.xlim(.001,10)\n",
      "plt.ylim(0, 3)\n",
      "plt.xlabel('cutoff weight')\n",
      "plt.ylabel('predicted score')\n",
      "plt.semilogx()\n",
      "score_series.plot()\n",
      "plt.show()"
     ],
     "language": "python",
     "metadata": {},
     "outputs": [
      {
       "metadata": {},
       "output_type": "display_data",
       "png": "[encoded data removed]",
       "text": [
        "<matplotlib.figure.Figure at 0x12ba4240>"
       ]
      }
     ],
     "prompt_number": 22
    },
    {
     "cell_type": "markdown",
     "metadata": {},
     "source": [
      "### Shuffle-Split Cross Validation\n",
      "\n",
      "Perform a series of runs with random splits of the training data into training and test sets."
     ]
    },
    {
     "cell_type": "code",
     "collapsed": false,
     "input": [
      "# Do a series of tests\n",
      "\n",
      "plt.xlim(.001,10)\n",
      "plt.ylim(1, 3)\n",
      "plt.semilogx()\n",
      "\n",
      "max_score_list = []\n",
      "threshold_list = []\n",
      "\n",
      "jet_sets = [jet_set_0, jet_set_none_0, jet_set_1, jet_set_none_1, jet_set_2, jet_set_none_2, jet_set_3, jet_set_none_3]\n",
      "split_nums = [8, 8, 8, 8, 8, 8, 8, 8]\n",
      "\n",
      "for k in range(0, 20):\n",
      "    \n",
      "    print 'Running simulation #', k, '...'\n",
      "    \n",
      "    compare = run_gaussian_linear(jet_sets, split_nums)\n",
      "    max_score, threshold, score_series, prediction = score_sample(compare, 'predicted weight')\n",
      "    \n",
      "    max_score_list.append(max_score)\n",
      "    threshold_list.append(threshold)\n",
      "    \n",
      "    print 'Best score found', max_score, 'at threshold', threshold, '\\n\\n'\n",
      "    \n",
      "    score_series.plot()\n",
      "    \n",
      "plt.xlabel('cutoff weight')\n",
      "plt.ylabel('predicted score')\n",
      "plt.show()\n"
     ],
     "language": "python",
     "metadata": {},
     "outputs": [
      {
       "output_type": "stream",
       "stream": "stdout",
       "text": [
        "Running simulation # 0 ...\n",
        "Evaluating set  0  ... "
       ]
      },
      {
       "output_type": "stream",
       "stream": "stdout",
       "text": [
        "done!  (Maximum regression coefficient: 4.87942851981 )\n",
        "Evaluating set "
       ]
      },
      {
       "output_type": "stream",
       "stream": "stdout",
       "text": [
        " 1  ... "
       ]
      },
      {
       "output_type": "stream",
       "stream": "stdout",
       "text": [
        "done!  (Maximum regression coefficient: 23.6302791602 )\n",
        "Evaluating set  2  ... "
       ]
      },
      {
       "output_type": "stream",
       "stream": "stdout",
       "text": [
        "done!  (Maximum regression coefficient: 10.9225792826 )\n",
        "Evaluating set "
       ]
      },
      {
       "output_type": "stream",
       "stream": "stdout",
       "text": [
        " 3  ... "
       ]
      },
      {
       "output_type": "stream",
       "stream": "stdout",
       "text": [
        "done!  (Maximum regression coefficient: 67.5236796043 )\n",
        "Evaluating set  4  ... "
       ]
      },
      {
       "output_type": "stream",
       "stream": "stdout",
       "text": [
        "done!  (Maximum regression coefficient: 24.2242734735 )\n",
        "Evaluating set  5  ... "
       ]
      },
      {
       "output_type": "stream",
       "stream": "stdout",
       "text": [
        "done!  (Maximum regression coefficient: 20.532638312 )\n",
        "Evaluating set  6  ... "
       ]
      },
      {
       "output_type": "stream",
       "stream": "stdout",
       "text": [
        "done!  (Maximum regression coefficient: 11.8466952728 )\n",
        "Evaluating set  7  ... "
       ]
      },
      {
       "output_type": "stream",
       "stream": "stdout",
       "text": [
        "done!  (Maximum regression coefficient: 18.230248016 )\n",
        "Best score found"
       ]
      },
      {
       "output_type": "stream",
       "stream": "stdout",
       "text": [
        " 2.75549290858 at threshold 0.0454659861932 \n",
        "\n",
        "\n",
        "Running simulation # 1 ...\n",
        "Evaluating set  0  ... "
       ]
      },
      {
       "output_type": "stream",
       "stream": "stdout",
       "text": [
        "done!  (Maximum regression coefficient: 12.0293586 )\n",
        "Evaluating set "
       ]
      },
      {
       "output_type": "stream",
       "stream": "stdout",
       "text": [
        " 1  ... "
       ]
      },
      {
       "output_type": "stream",
       "stream": "stdout",
       "text": [
        "done!  (Maximum regression coefficient: 27.8413805486 )\n",
        "Evaluating set  2  ... "
       ]
      },
      {
       "output_type": "stream",
       "stream": "stdout",
       "text": [
        "done!  (Maximum regression coefficient: 16.4194586395 )\n",
        "Evaluating set "
       ]
      },
      {
       "output_type": "stream",
       "stream": "stdout",
       "text": [
        " 3  ... "
       ]
      },
      {
       "output_type": "stream",
       "stream": "stdout",
       "text": [
        "done!  (Maximum regression coefficient: 36.9719334491 )\n",
        "Evaluating set  4  ... "
       ]
      },
      {
       "output_type": "stream",
       "stream": "stdout",
       "text": [
        "done!  (Maximum regression coefficient: 30.196180857 )\n",
        "Evaluating set  5  ... "
       ]
      },
      {
       "output_type": "stream",
       "stream": "stdout",
       "text": [
        "done!  (Maximum regression coefficient: 10.1175894884 )\n",
        "Evaluating set  6  ... "
       ]
      },
      {
       "output_type": "stream",
       "stream": "stdout",
       "text": [
        "done!  (Maximum regression coefficient: 6.66384327389 )\n",
        "Evaluating set  7  ... "
       ]
      },
      {
       "output_type": "stream",
       "stream": "stdout",
       "text": [
        "done!  (Maximum regression coefficient: 20.0855241726 )\n",
        "Best score found"
       ]
      },
      {
       "output_type": "stream",
       "stream": "stdout",
       "text": [
        " 2.81959544165 at threshold 0.0352921834537 \n",
        "\n",
        "\n",
        "Running simulation # 2 ...\n",
        "Evaluating set  0  ... "
       ]
      },
      {
       "output_type": "stream",
       "stream": "stdout",
       "text": [
        "done!  (Maximum regression coefficient: 4.71609766433 )\n",
        "Evaluating set  1  ... "
       ]
      },
      {
       "output_type": "stream",
       "stream": "stdout",
       "text": [
        "done!  (Maximum regression coefficient: 19.9638058039 )\n",
        "Evaluating set  2  ... "
       ]
      },
      {
       "output_type": "stream",
       "stream": "stdout",
       "text": [
        "done!  (Maximum regression coefficient: 12.9551800319 )\n",
        "Evaluating set  3  ... "
       ]
      },
      {
       "output_type": "stream",
       "stream": "stdout",
       "text": [
        "done!  (Maximum regression coefficient: 5.18316846764 )\n",
        "Evaluating set  4  ... "
       ]
      },
      {
       "output_type": "stream",
       "stream": "stdout",
       "text": [
        "done!  (Maximum regression coefficient: 23.085310559 )\n",
        "Evaluating set  5  ... "
       ]
      },
      {
       "output_type": "stream",
       "stream": "stdout",
       "text": [
        "done!  (Maximum regression coefficient: 24.5225942533 )\n",
        "Evaluating set  6  ... "
       ]
      },
      {
       "output_type": "stream",
       "stream": "stdout",
       "text": [
        "done!  (Maximum regression coefficient: 15.0990248606 )\n",
        "Evaluating set  7  ... "
       ]
      },
      {
       "output_type": "stream",
       "stream": "stdout",
       "text": [
        "done!  (Maximum regression coefficient: 58.2195556398 )\n",
        "Best score found"
       ]
      },
      {
       "output_type": "stream",
       "stream": "stdout",
       "text": [
        " 2.7529199285 at threshold 0.0453134733309 \n",
        "\n",
        "\n",
        "Running simulation # 3 ...\n",
        "Evaluating set  0  ... "
       ]
      },
      {
       "output_type": "stream",
       "stream": "stdout",
       "text": [
        "done!  (Maximum regression coefficient: 5.44088325791 )\n",
        "Evaluating set "
       ]
      },
      {
       "output_type": "stream",
       "stream": "stdout",
       "text": [
        " 1  ... "
       ]
      },
      {
       "output_type": "stream",
       "stream": "stdout",
       "text": [
        "done!  (Maximum regression coefficient: 9.02927204121 )\n",
        "Evaluating set  2  ... "
       ]
      },
      {
       "output_type": "stream",
       "stream": "stdout",
       "text": [
        "done!  (Maximum regression coefficient: 5.57063607907 )\n",
        "Evaluating set  3  ... "
       ]
      },
      {
       "output_type": "stream",
       "stream": "stdout",
       "text": [
        "done!  (Maximum regression coefficient: 20.4768319152 )\n",
        "Evaluating set  4  ... "
       ]
      },
      {
       "output_type": "stream",
       "stream": "stdout",
       "text": [
        "done!  (Maximum regression coefficient: 30.8334289495 )\n",
        "Evaluating set "
       ]
      },
      {
       "output_type": "stream",
       "stream": "stdout",
       "text": [
        " 5  ... "
       ]
      },
      {
       "output_type": "stream",
       "stream": "stdout",
       "text": [
        "done!  (Maximum regression coefficient: 34.9136984991 )\n",
        "Evaluating set  6  ... "
       ]
      },
      {
       "output_type": "stream",
       "stream": "stdout",
       "text": [
        "done!  (Maximum regression coefficient: 7.78497404477 )\n",
        "Evaluating set  7  ... "
       ]
      },
      {
       "output_type": "stream",
       "stream": "stdout",
       "text": [
        "done!  (Maximum regression coefficient: 19.6603704827 )\n",
        "Best score found"
       ]
      },
      {
       "output_type": "stream",
       "stream": "stdout",
       "text": [
        " 2.75246298283 at threshold 0.0511611752279 \n",
        "\n",
        "\n",
        "Running simulation # 4 ...\n",
        "Evaluating set  0  ... "
       ]
      },
      {
       "output_type": "stream",
       "stream": "stdout",
       "text": [
        "done!  (Maximum regression coefficient: 10.7082627296 )\n",
        "Evaluating set "
       ]
      },
      {
       "output_type": "stream",
       "stream": "stdout",
       "text": [
        " 1  ... "
       ]
      },
      {
       "output_type": "stream",
       "stream": "stdout",
       "text": [
        "done!  (Maximum regression coefficient: 19.1982441486 )\n",
        "Evaluating set  2  ... "
       ]
      },
      {
       "output_type": "stream",
       "stream": "stdout",
       "text": [
        "done!  (Maximum regression coefficient: 10.1383937139 )\n",
        "Evaluating set  3  ... "
       ]
      },
      {
       "output_type": "stream",
       "stream": "stdout",
       "text": [
        "done!  (Maximum regression coefficient: 24.9123873392 )\n",
        "Evaluating set  4  ... "
       ]
      },
      {
       "output_type": "stream",
       "stream": "stdout",
       "text": [
        "done!  (Maximum regression coefficient: 19.134899821 )\n",
        "Evaluating set  5  ... "
       ]
      },
      {
       "output_type": "stream",
       "stream": "stdout",
       "text": [
        "done!  (Maximum regression coefficient: 10.3115364236 )\n",
        "Evaluating set  6  ... "
       ]
      },
      {
       "output_type": "stream",
       "stream": "stdout",
       "text": [
        "done!  (Maximum regression coefficient: 25.8306153253 )\n",
        "Evaluating set  7  ... "
       ]
      },
      {
       "output_type": "stream",
       "stream": "stdout",
       "text": [
        "done!  (Maximum regression coefficient: 29.129732647 )\n",
        "Best score found"
       ]
      },
      {
       "output_type": "stream",
       "stream": "stdout",
       "text": [
        " 2.82745397926 at threshold 0.0448354807109 \n",
        "\n",
        "\n",
        "Running simulation # 5 ...\n",
        "Evaluating set  0  ... "
       ]
      },
      {
       "output_type": "stream",
       "stream": "stdout",
       "text": [
        "done!  (Maximum regression coefficient: 11.6284240008 )\n",
        "Evaluating set "
       ]
      },
      {
       "output_type": "stream",
       "stream": "stdout",
       "text": [
        " 1  ... "
       ]
      },
      {
       "output_type": "stream",
       "stream": "stdout",
       "text": [
        "done!  (Maximum regression coefficient: 22.350715911 )\n",
        "Evaluating set  2  ... "
       ]
      },
      {
       "output_type": "stream",
       "stream": "stdout",
       "text": [
        "done!  (Maximum regression coefficient: 11.3147922492 )\n",
        "Evaluating set "
       ]
      },
      {
       "output_type": "stream",
       "stream": "stdout",
       "text": [
        " 3  ... "
       ]
      },
      {
       "output_type": "stream",
       "stream": "stdout",
       "text": [
        "done!  (Maximum regression coefficient: 11.5006384981 )\n",
        "Evaluating set  4  ... "
       ]
      },
      {
       "output_type": "stream",
       "stream": "stdout",
       "text": [
        "done!  (Maximum regression coefficient: 22.7675460278 )\n",
        "Evaluating set  5  ... "
       ]
      },
      {
       "output_type": "stream",
       "stream": "stdout",
       "text": [
        "done!  (Maximum regression coefficient: 83.1740918844 )\n",
        "Evaluating set  6  ... "
       ]
      },
      {
       "output_type": "stream",
       "stream": "stdout",
       "text": [
        "done!  (Maximum regression coefficient: 13.4339829421 )\n",
        "Evaluating set  7  ... "
       ]
      },
      {
       "output_type": "stream",
       "stream": "stdout",
       "text": [
        "done!  (Maximum regression coefficient: 50.5518391378 )\n",
        "Best score found"
       ]
      },
      {
       "output_type": "stream",
       "stream": "stdout",
       "text": [
        " 2.89927146604 at threshold 0.03288241831 \n",
        "\n",
        "\n",
        "Running simulation # 6 ...\n",
        "Evaluating set  0  ... "
       ]
      },
      {
       "output_type": "stream",
       "stream": "stdout",
       "text": [
        "done!  (Maximum regression coefficient: 5.16948391732 )\n",
        "Evaluating set  1  ... "
       ]
      },
      {
       "output_type": "stream",
       "stream": "stdout",
       "text": [
        "done!  (Maximum regression coefficient: 44.138616048 )\n",
        "Evaluating set  2  ... "
       ]
      },
      {
       "output_type": "stream",
       "stream": "stdout",
       "text": [
        "done!  (Maximum regression coefficient: 5.59891107657 )\n",
        "Evaluating set "
       ]
      },
      {
       "output_type": "stream",
       "stream": "stdout",
       "text": [
        " 3  ... "
       ]
      },
      {
       "output_type": "stream",
       "stream": "stdout",
       "text": [
        "done!  (Maximum regression coefficient: 33.401402177 )\n",
        "Evaluating set  4  ... "
       ]
      },
      {
       "output_type": "stream",
       "stream": "stdout",
       "text": [
        "done!  (Maximum regression coefficient: 20.3972806611 )\n",
        "Evaluating set  5  ... "
       ]
      },
      {
       "output_type": "stream",
       "stream": "stdout",
       "text": [
        "done!  (Maximum regression coefficient: 52.5848997506 )\n",
        "Evaluating set  6  ... "
       ]
      },
      {
       "output_type": "stream",
       "stream": "stdout",
       "text": [
        "done!  (Maximum regression coefficient: 20.114907555 )\n",
        "Evaluating set  7  ... "
       ]
      },
      {
       "output_type": "stream",
       "stream": "stdout",
       "text": [
        "done!  (Maximum regression coefficient: 29.8350334408 )\n",
        "Best score found"
       ]
      },
      {
       "output_type": "stream",
       "stream": "stdout",
       "text": [
        " 2.77628871 at threshold 0.039975128397 \n",
        "\n",
        "\n",
        "Running simulation # 7 ...\n",
        "Evaluating set  0  ... "
       ]
      },
      {
       "output_type": "stream",
       "stream": "stdout",
       "text": [
        "done!  (Maximum regression coefficient: 4.82545469281 )\n",
        "Evaluating set "
       ]
      },
      {
       "output_type": "stream",
       "stream": "stdout",
       "text": [
        " 1  ... "
       ]
      },
      {
       "output_type": "stream",
       "stream": "stdout",
       "text": [
        "done!  (Maximum regression coefficient: 21.528120193 )\n",
        "Evaluating set  2  ... "
       ]
      },
      {
       "output_type": "stream",
       "stream": "stdout",
       "text": [
        "done!  (Maximum regression coefficient: 9.28921108462 )\n",
        "Evaluating set "
       ]
      },
      {
       "output_type": "stream",
       "stream": "stdout",
       "text": [
        " 3  ... "
       ]
      },
      {
       "output_type": "stream",
       "stream": "stdout",
       "text": [
        "done!  (Maximum regression coefficient: 7.4173187339 )\n",
        "Evaluating set  4  ... "
       ]
      },
      {
       "output_type": "stream",
       "stream": "stdout",
       "text": [
        "done!  (Maximum regression coefficient: 20.7404273297 )\n",
        "Evaluating set  5  ... "
       ]
      },
      {
       "output_type": "stream",
       "stream": "stdout",
       "text": [
        "done!  (Maximum regression coefficient: 17.1687510452 )\n",
        "Evaluating set  6  ... "
       ]
      },
      {
       "output_type": "stream",
       "stream": "stdout",
       "text": [
        "done!  (Maximum regression coefficient: 7.82928614199 )\n",
        "Evaluating set  7  ... "
       ]
      },
      {
       "output_type": "stream",
       "stream": "stdout",
       "text": [
        "done!  (Maximum regression coefficient: 45.3592523514 )\n",
        "Best score found"
       ]
      },
      {
       "output_type": "stream",
       "stream": "stdout",
       "text": [
        " 2.7636339025 at threshold 0.040300148208 \n",
        "\n",
        "\n",
        "Running simulation # 8 ...\n",
        "Evaluating set  0  ... "
       ]
      },
      {
       "output_type": "stream",
       "stream": "stdout",
       "text": [
        "done!  (Maximum regression coefficient: 19.7125237807 )\n",
        "Evaluating set "
       ]
      },
      {
       "output_type": "stream",
       "stream": "stdout",
       "text": [
        " 1  ... "
       ]
      },
      {
       "output_type": "stream",
       "stream": "stdout",
       "text": [
        "done!  (Maximum regression coefficient: 27.1791743939 )\n",
        "Evaluating set  2  ... "
       ]
      },
      {
       "output_type": "stream",
       "stream": "stdout",
       "text": [
        "done!  (Maximum regression coefficient: 8.85341910377 )\n",
        "Evaluating set "
       ]
      },
      {
       "output_type": "stream",
       "stream": "stdout",
       "text": [
        " 3  ... "
       ]
      },
      {
       "output_type": "stream",
       "stream": "stdout",
       "text": [
        "done!  (Maximum regression coefficient: 27.7175132947 )\n",
        "Evaluating set  4  ... "
       ]
      },
      {
       "output_type": "stream",
       "stream": "stdout",
       "text": [
        "done!  (Maximum regression coefficient: 19.9014197484 )\n",
        "Evaluating set  5  ... "
       ]
      },
      {
       "output_type": "stream",
       "stream": "stdout",
       "text": [
        "done!  (Maximum regression coefficient: 24.1895293379 )\n",
        "Evaluating set  6  ... "
       ]
      },
      {
       "output_type": "stream",
       "stream": "stdout",
       "text": [
        "done!  (Maximum regression coefficient: 9.34220825623 )\n",
        "Evaluating set  7  ... "
       ]
      },
      {
       "output_type": "stream",
       "stream": "stdout",
       "text": [
        "done!  (Maximum regression coefficient: 29.9881138725 )\n",
        "Best score found"
       ]
      },
      {
       "output_type": "stream",
       "stream": "stdout",
       "text": [
        " 2.78358056948 at threshold 0.0498312301631 \n",
        "\n",
        "\n",
        "Running simulation # 9 ...\n",
        "Evaluating set  0  ... "
       ]
      },
      {
       "output_type": "stream",
       "stream": "stdout",
       "text": [
        "done!  (Maximum regression coefficient: 10.8088530542 )\n",
        "Evaluating set  1  ... "
       ]
      },
      {
       "output_type": "stream",
       "stream": "stdout",
       "text": [
        "done!  (Maximum regression coefficient: 15.1204401268 )\n",
        "Evaluating set  2  ... "
       ]
      },
      {
       "output_type": "stream",
       "stream": "stdout",
       "text": [
        "done!  (Maximum regression coefficient: 8.96917253026 )\n",
        "Evaluating set  3  ... "
       ]
      },
      {
       "output_type": "stream",
       "stream": "stdout",
       "text": [
        "done!  (Maximum regression coefficient: 49.4776037496 )\n",
        "Evaluating set  4  ... "
       ]
      },
      {
       "output_type": "stream",
       "stream": "stdout",
       "text": [
        "done!  (Maximum regression coefficient: 23.0461485793 )\n",
        "Evaluating set  5  ... "
       ]
      },
      {
       "output_type": "stream",
       "stream": "stdout",
       "text": [
        "done!  (Maximum regression coefficient: 78.4986454329 )\n",
        "Evaluating set  6  ... "
       ]
      },
      {
       "output_type": "stream",
       "stream": "stdout",
       "text": [
        "done!  (Maximum regression coefficient: 14.1394997938 )\n",
        "Evaluating set  7  ... "
       ]
      },
      {
       "output_type": "stream",
       "stream": "stdout",
       "text": [
        "done!  (Maximum regression coefficient: 31.3087923361 )\n",
        "Best score found"
       ]
      },
      {
       "output_type": "stream",
       "stream": "stdout",
       "text": [
        " 2.81946533797 at threshold 0.036323380441 \n",
        "\n",
        "\n",
        "Running simulation # 10 ...\n",
        "Evaluating set  0  ... "
       ]
      },
      {
       "output_type": "stream",
       "stream": "stdout",
       "text": [
        "done!  (Maximum regression coefficient: 7.95648402913 )\n",
        "Evaluating set  1  ... "
       ]
      },
      {
       "output_type": "stream",
       "stream": "stdout",
       "text": [
        "done!  (Maximum regression coefficient: 26.5235390453 )\n",
        "Evaluating set  2  ... "
       ]
      },
      {
       "output_type": "stream",
       "stream": "stdout",
       "text": [
        "done!  (Maximum regression coefficient: 9.90242551097 )\n",
        "Evaluating set "
       ]
      },
      {
       "output_type": "stream",
       "stream": "stdout",
       "text": [
        " 3  ... "
       ]
      },
      {
       "output_type": "stream",
       "stream": "stdout",
       "text": [
        "done!  (Maximum regression coefficient: 47.4233034212 )\n",
        "Evaluating set  4  ... "
       ]
      },
      {
       "output_type": "stream",
       "stream": "stdout",
       "text": [
        "done!  (Maximum regression coefficient: 30.4969500792 )\n",
        "Evaluating set  5  ... "
       ]
      },
      {
       "output_type": "stream",
       "stream": "stdout",
       "text": [
        "done!  (Maximum regression coefficient: 4.00270273002 )\n",
        "Evaluating set  6  ... "
       ]
      },
      {
       "output_type": "stream",
       "stream": "stdout",
       "text": [
        "done!  (Maximum regression coefficient: 14.5027744815 )\n",
        "Evaluating set  7  ... "
       ]
      },
      {
       "output_type": "stream",
       "stream": "stdout",
       "text": [
        "done!  (Maximum regression coefficient: 18.7342264272 )\n",
        "Best score found"
       ]
      },
      {
       "output_type": "stream",
       "stream": "stdout",
       "text": [
        " 2.7975536875 at threshold 0.0418019492234 \n",
        "\n",
        "\n",
        "Running simulation # 11 ...\n",
        "Evaluating set  0  ... "
       ]
      },
      {
       "output_type": "stream",
       "stream": "stdout",
       "text": [
        "done!  (Maximum regression coefficient: 18.9852131181 )\n",
        "Evaluating set "
       ]
      },
      {
       "output_type": "stream",
       "stream": "stdout",
       "text": [
        " 1  ... "
       ]
      },
      {
       "output_type": "stream",
       "stream": "stdout",
       "text": [
        "done!  (Maximum regression coefficient: 23.8678925524 )\n",
        "Evaluating set  2  ... "
       ]
      },
      {
       "output_type": "stream",
       "stream": "stdout",
       "text": [
        "done!  (Maximum regression coefficient: 9.52238668826 )\n",
        "Evaluating set "
       ]
      },
      {
       "output_type": "stream",
       "stream": "stdout",
       "text": [
        " 3  ... "
       ]
      },
      {
       "output_type": "stream",
       "stream": "stdout",
       "text": [
        "done!  (Maximum regression coefficient: 54.8331543432 )\n",
        "Evaluating set  4  ... "
       ]
      },
      {
       "output_type": "stream",
       "stream": "stdout",
       "text": [
        "done!  (Maximum regression coefficient: 27.8947190806 )\n",
        "Evaluating set  5  ... "
       ]
      },
      {
       "output_type": "stream",
       "stream": "stdout",
       "text": [
        "done!  (Maximum regression coefficient: 4.7516689174 )\n",
        "Evaluating set  6  ... "
       ]
      },
      {
       "output_type": "stream",
       "stream": "stdout",
       "text": [
        "done!  (Maximum regression coefficient: 11.733571607 )\n",
        "Evaluating set  7  ... "
       ]
      },
      {
       "output_type": "stream",
       "stream": "stdout",
       "text": [
        "done!  (Maximum regression coefficient: 29.6398955997 )\n",
        "Best score found"
       ]
      },
      {
       "output_type": "stream",
       "stream": "stdout",
       "text": [
        " 2.7985895627 at threshold 0.0502605599891 \n",
        "\n",
        "\n",
        "Running simulation # 12 ...\n",
        "Evaluating set  0  ... "
       ]
      },
      {
       "output_type": "stream",
       "stream": "stdout",
       "text": [
        "done!  (Maximum regression coefficient: 15.0703604285 )\n",
        "Evaluating set "
       ]
      },
      {
       "output_type": "stream",
       "stream": "stdout",
       "text": [
        " 1  ... "
       ]
      },
      {
       "output_type": "stream",
       "stream": "stdout",
       "text": [
        "done!  (Maximum regression coefficient: 10.4360520951 )\n",
        "Evaluating set  2  ... "
       ]
      },
      {
       "output_type": "stream",
       "stream": "stdout",
       "text": [
        "done!  (Maximum regression coefficient: 12.2703543869 )\n",
        "Evaluating set "
       ]
      },
      {
       "output_type": "stream",
       "stream": "stdout",
       "text": [
        " 3  ... "
       ]
      },
      {
       "output_type": "stream",
       "stream": "stdout",
       "text": [
        "done!  (Maximum regression coefficient: 10.4150811838 )\n",
        "Evaluating set  4  ... "
       ]
      },
      {
       "output_type": "stream",
       "stream": "stdout",
       "text": [
        "done!  (Maximum regression coefficient: 29.461259945 )\n",
        "Evaluating set  5  ... "
       ]
      },
      {
       "output_type": "stream",
       "stream": "stdout",
       "text": [
        "done!  (Maximum regression coefficient: 19.9811855986 )\n",
        "Evaluating set  6  ... "
       ]
      },
      {
       "output_type": "stream",
       "stream": "stdout",
       "text": [
        "done!  (Maximum regression coefficient: 12.3732821674 )\n",
        "Evaluating set  7  ... "
       ]
      },
      {
       "output_type": "stream",
       "stream": "stdout",
       "text": [
        "done!  (Maximum regression coefficient: 6.68880155908 )\n",
        "Best score found"
       ]
      },
      {
       "output_type": "stream",
       "stream": "stdout",
       "text": [
        " 2.81473049673 at threshold 0.035840270641 \n",
        "\n",
        "\n",
        "Running simulation # 13 ...\n",
        "Evaluating set  0  ... "
       ]
      },
      {
       "output_type": "stream",
       "stream": "stdout",
       "text": [
        "done!  (Maximum regression coefficient: 5.21528245844 )\n",
        "Evaluating set "
       ]
      },
      {
       "output_type": "stream",
       "stream": "stdout",
       "text": [
        " 1  ... "
       ]
      },
      {
       "output_type": "stream",
       "stream": "stdout",
       "text": [
        "done!  (Maximum regression coefficient: 22.3626764923 )\n",
        "Evaluating set  2  ... "
       ]
      },
      {
       "output_type": "stream",
       "stream": "stdout",
       "text": [
        "done!  (Maximum regression coefficient: 5.4754773707 )\n",
        "Evaluating set  3  ... "
       ]
      },
      {
       "output_type": "stream",
       "stream": "stdout",
       "text": [
        "done!  (Maximum regression coefficient: 39.6199936947 )\n",
        "Evaluating set  4  ... "
       ]
      },
      {
       "output_type": "stream",
       "stream": "stdout",
       "text": [
        "done!  (Maximum regression coefficient: 20.2140656218 )\n",
        "Evaluating set  5  ... "
       ]
      },
      {
       "output_type": "stream",
       "stream": "stdout",
       "text": [
        "done!  (Maximum regression coefficient: 46.3372319576 )\n",
        "Evaluating set  6  ... "
       ]
      },
      {
       "output_type": "stream",
       "stream": "stdout",
       "text": [
        "done!  (Maximum regression coefficient: 9.90345102434 )\n",
        "Evaluating set  7  ... "
       ]
      },
      {
       "output_type": "stream",
       "stream": "stdout",
       "text": [
        "done!  (Maximum regression coefficient: 53.6414215728 )\n",
        "Best score found"
       ]
      },
      {
       "output_type": "stream",
       "stream": "stdout",
       "text": [
        " 2.72289971584 at threshold 0.0322956957724 \n",
        "\n",
        "\n",
        "Running simulation # 14 ...\n",
        "Evaluating set  0  ... "
       ]
      },
      {
       "output_type": "stream",
       "stream": "stdout",
       "text": [
        "done!  (Maximum regression coefficient: 10.8106325793 )\n",
        "Evaluating set "
       ]
      },
      {
       "output_type": "stream",
       "stream": "stdout",
       "text": [
        " 1  ... "
       ]
      },
      {
       "output_type": "stream",
       "stream": "stdout",
       "text": [
        "done!  (Maximum regression coefficient: 17.9489912211 )\n",
        "Evaluating set  2  ... "
       ]
      },
      {
       "output_type": "stream",
       "stream": "stdout",
       "text": [
        "done!  (Maximum regression coefficient: 10.2837462041 )\n",
        "Evaluating set "
       ]
      },
      {
       "output_type": "stream",
       "stream": "stdout",
       "text": [
        " 3  ... "
       ]
      },
      {
       "output_type": "stream",
       "stream": "stdout",
       "text": [
        "done!  (Maximum regression coefficient: 74.2375950523 )\n",
        "Evaluating set  4  ... "
       ]
      },
      {
       "output_type": "stream",
       "stream": "stdout",
       "text": [
        "done!  (Maximum regression coefficient: 32.0983799808 )\n",
        "Evaluating set  5  ... "
       ]
      },
      {
       "output_type": "stream",
       "stream": "stdout",
       "text": [
        "done!  (Maximum regression coefficient: 4.11659409152 )\n",
        "Evaluating set  6  ... "
       ]
      },
      {
       "output_type": "stream",
       "stream": "stdout",
       "text": [
        "done!  (Maximum regression coefficient: 10.4332537092 )\n",
        "Evaluating set  7  ... "
       ]
      },
      {
       "output_type": "stream",
       "stream": "stdout",
       "text": [
        "done!  (Maximum regression coefficient: 78.9549734748 )\n",
        "Best score found"
       ]
      },
      {
       "output_type": "stream",
       "stream": "stdout",
       "text": [
        " 2.79919792344 at threshold 0.0484719225113 \n",
        "\n",
        "\n",
        "Running simulation # 15 ...\n",
        "Evaluating set  0  ... "
       ]
      },
      {
       "output_type": "stream",
       "stream": "stdout",
       "text": [
        "done!  (Maximum regression coefficient: 10.4873067004 )\n",
        "Evaluating set "
       ]
      },
      {
       "output_type": "stream",
       "stream": "stdout",
       "text": [
        " 1  ... "
       ]
      },
      {
       "output_type": "stream",
       "stream": "stdout",
       "text": [
        "done!  (Maximum regression coefficient: 40.4095084921 )\n",
        "Evaluating set "
       ]
      },
      {
       "output_type": "stream",
       "stream": "stdout",
       "text": [
        " 2  ... "
       ]
      },
      {
       "output_type": "stream",
       "stream": "stdout",
       "text": [
        "done!  (Maximum regression coefficient: 5.57041427085 )\n",
        "Evaluating set "
       ]
      },
      {
       "output_type": "stream",
       "stream": "stdout",
       "text": [
        " 3  ... "
       ]
      },
      {
       "output_type": "stream",
       "stream": "stdout",
       "text": [
        "done!  (Maximum regression coefficient: 50.882917324 )\n",
        "Evaluating set  4  ... "
       ]
      },
      {
       "output_type": "stream",
       "stream": "stdout",
       "text": [
        "done!  (Maximum regression coefficient: 31.7615878132 )\n",
        "Evaluating set  5  ... "
       ]
      },
      {
       "output_type": "stream",
       "stream": "stdout",
       "text": [
        "done!  (Maximum regression coefficient: 5.51842319029 )\n",
        "Evaluating set  6  ... "
       ]
      },
      {
       "output_type": "stream",
       "stream": "stdout",
       "text": [
        "done!  (Maximum regression coefficient: 12.0428598795 )\n",
        "Evaluating set  7  ... "
       ]
      },
      {
       "output_type": "stream",
       "stream": "stdout",
       "text": [
        "done!  (Maximum regression coefficient: 67.3065781608 )\n",
        "Best score found"
       ]
      },
      {
       "output_type": "stream",
       "stream": "stdout",
       "text": [
        " 2.78443475196 at threshold 0.0368378915763 \n",
        "\n",
        "\n",
        "Running simulation # 16 ...\n",
        "Evaluating set  0  ... "
       ]
      },
      {
       "output_type": "stream",
       "stream": "stdout",
       "text": [
        "done!  (Maximum regression coefficient: 25.7188504595 )\n",
        "Evaluating set "
       ]
      },
      {
       "output_type": "stream",
       "stream": "stdout",
       "text": [
        " 1  ... "
       ]
      },
      {
       "output_type": "stream",
       "stream": "stdout",
       "text": [
        "done!  (Maximum regression coefficient: 18.3320682076 )\n",
        "Evaluating set  2  ... "
       ]
      },
      {
       "output_type": "stream",
       "stream": "stdout",
       "text": [
        "done!  (Maximum regression coefficient: 5.9340545702 )\n",
        "Evaluating set "
       ]
      },
      {
       "output_type": "stream",
       "stream": "stdout",
       "text": [
        " 3  ... "
       ]
      },
      {
       "output_type": "stream",
       "stream": "stdout",
       "text": [
        "done!  (Maximum regression coefficient: 46.576297938 )\n",
        "Evaluating set  4  ... "
       ]
      },
      {
       "output_type": "stream",
       "stream": "stdout",
       "text": [
        "done!  (Maximum regression coefficient: 26.0956480163 )\n",
        "Evaluating set  5  ... "
       ]
      },
      {
       "output_type": "stream",
       "stream": "stdout",
       "text": [
        "done!  (Maximum regression coefficient: 83.8520211399 )\n",
        "Evaluating set  6  ... "
       ]
      },
      {
       "output_type": "stream",
       "stream": "stdout",
       "text": [
        "done!  (Maximum regression coefficient: 16.5017014207 )\n",
        "Evaluating set  7  ... "
       ]
      },
      {
       "output_type": "stream",
       "stream": "stdout",
       "text": [
        "done!  (Maximum regression coefficient: 80.861388772 )\n",
        "Best score found"
       ]
      },
      {
       "output_type": "stream",
       "stream": "stdout",
       "text": [
        " 2.81755356191 at threshold 0.0481076422454 \n",
        "\n",
        "\n",
        "Running simulation # 17 ...\n",
        "Evaluating set  0  ... "
       ]
      },
      {
       "output_type": "stream",
       "stream": "stdout",
       "text": [
        "done!  (Maximum regression coefficient: 11.5173604558 )\n",
        "Evaluating set "
       ]
      },
      {
       "output_type": "stream",
       "stream": "stdout",
       "text": [
        " 1  ... "
       ]
      },
      {
       "output_type": "stream",
       "stream": "stdout",
       "text": [
        "done!  (Maximum regression coefficient: 19.2553735058 )\n",
        "Evaluating set  2  ... "
       ]
      },
      {
       "output_type": "stream",
       "stream": "stdout",
       "text": [
        "done!  (Maximum regression coefficient: 5.23863359611 )\n",
        "Evaluating set "
       ]
      },
      {
       "output_type": "stream",
       "stream": "stdout",
       "text": [
        " 3  ... "
       ]
      },
      {
       "output_type": "stream",
       "stream": "stdout",
       "text": [
        "done!  (Maximum regression coefficient: 4.17607874535 )\n",
        "Evaluating set  4  ... "
       ]
      },
      {
       "output_type": "stream",
       "stream": "stdout",
       "text": [
        "done!  (Maximum regression coefficient: 21.9674125707 )\n",
        "Evaluating set  5  ... "
       ]
      },
      {
       "output_type": "stream",
       "stream": "stdout",
       "text": [
        "done!  (Maximum regression coefficient: 5.14058780573 )\n",
        "Evaluating set  6  ... "
       ]
      },
      {
       "output_type": "stream",
       "stream": "stdout",
       "text": [
        "done!  (Maximum regression coefficient: 17.3054058263 )\n",
        "Evaluating set  7  ... "
       ]
      },
      {
       "output_type": "stream",
       "stream": "stdout",
       "text": [
        "done!  (Maximum regression coefficient: 9.21408865297 )\n",
        "Best score found"
       ]
      },
      {
       "output_type": "stream",
       "stream": "stdout",
       "text": [
        " 2.74540858864 at threshold 0.0437433331146 \n",
        "\n",
        "\n",
        "Running simulation # 18 ...\n",
        "Evaluating set  0  ... "
       ]
      },
      {
       "output_type": "stream",
       "stream": "stdout",
       "text": [
        "done!  (Maximum regression coefficient: 4.9724003673 )\n",
        "Evaluating set "
       ]
      },
      {
       "output_type": "stream",
       "stream": "stdout",
       "text": [
        " 1  ... "
       ]
      },
      {
       "output_type": "stream",
       "stream": "stdout",
       "text": [
        "done!  (Maximum regression coefficient: 14.8952575365 )\n",
        "Evaluating set  2  ... "
       ]
      },
      {
       "output_type": "stream",
       "stream": "stdout",
       "text": [
        "done!  (Maximum regression coefficient: 5.63171237321 )\n",
        "Evaluating set "
       ]
      },
      {
       "output_type": "stream",
       "stream": "stdout",
       "text": [
        " 3  ... "
       ]
      },
      {
       "output_type": "stream",
       "stream": "stdout",
       "text": [
        "done!  (Maximum regression coefficient: 19.0806767433 )\n",
        "Evaluating set  4  ... "
       ]
      },
      {
       "output_type": "stream",
       "stream": "stdout",
       "text": [
        "done!  (Maximum regression coefficient: 19.4209400008 )\n",
        "Evaluating set  5  ... "
       ]
      },
      {
       "output_type": "stream",
       "stream": "stdout",
       "text": [
        "done!  (Maximum regression coefficient: 11.2444721142 )\n",
        "Evaluating set  6  ... "
       ]
      },
      {
       "output_type": "stream",
       "stream": "stdout",
       "text": [
        "done!  (Maximum regression coefficient: 11.5743662018 )\n",
        "Evaluating set  7  ... "
       ]
      },
      {
       "output_type": "stream",
       "stream": "stdout",
       "text": [
        "done!  (Maximum regression coefficient: 42.6178813596 )\n",
        "Best score found"
       ]
      },
      {
       "output_type": "stream",
       "stream": "stdout",
       "text": [
        " 2.74365166185 at threshold 0.037661947615 \n",
        "\n",
        "\n",
        "Running simulation # 19 ...\n",
        "Evaluating set  0  ... "
       ]
      },
      {
       "output_type": "stream",
       "stream": "stdout",
       "text": [
        "done!  (Maximum regression coefficient: 4.76632074265 )\n",
        "Evaluating set "
       ]
      },
      {
       "output_type": "stream",
       "stream": "stdout",
       "text": [
        " 1  ... "
       ]
      },
      {
       "output_type": "stream",
       "stream": "stdout",
       "text": [
        "done!  (Maximum regression coefficient: 34.6330007817 )\n",
        "Evaluating set  2  ... "
       ]
      },
      {
       "output_type": "stream",
       "stream": "stdout",
       "text": [
        "done!  (Maximum regression coefficient: 15.0135632355 )\n",
        "Evaluating set "
       ]
      },
      {
       "output_type": "stream",
       "stream": "stdout",
       "text": [
        " 3  ... "
       ]
      },
      {
       "output_type": "stream",
       "stream": "stdout",
       "text": [
        "done!  (Maximum regression coefficient: 29.3218437305 )\n",
        "Evaluating set  4  ... "
       ]
      },
      {
       "output_type": "stream",
       "stream": "stdout",
       "text": [
        "done!  (Maximum regression coefficient: 19.0833921668 )\n",
        "Evaluating set  5  ... "
       ]
      },
      {
       "output_type": "stream",
       "stream": "stdout",
       "text": [
        "done!  (Maximum regression coefficient: 57.1126609779 )\n",
        "Evaluating set  6  ... "
       ]
      },
      {
       "output_type": "stream",
       "stream": "stdout",
       "text": [
        "done!  (Maximum regression coefficient: 11.5941210745 )\n",
        "Evaluating set  7  ... "
       ]
      },
      {
       "output_type": "stream",
       "stream": "stdout",
       "text": [
        "done!  (Maximum regression coefficient: 34.7133883087 )\n",
        "Best score found"
       ]
      },
      {
       "output_type": "stream",
       "stream": "stdout",
       "text": [
        " 2.74800739983 at threshold 0.0447889719751 \n",
        "\n",
        "\n"
       ]
      },
      {
       "metadata": {},
       "output_type": "display_data",
       "png": "[encoded data removed]",
       "text": [
        "<matplotlib.figure.Figure at 0x20125978>"
       ]
      }
     ],
     "prompt_number": 23
    },
    {
     "cell_type": "code",
     "collapsed": false,
     "input": [
      "# The 8-8-8-8 split seems to have good scoring outcomes, so let's adopt it\n",
      "# The distribution suggests a threshold around 0.04 for maximum performance.\n",
      "\n",
      "plt.scatter(threshold_list, max_score_list)\n",
      "plt.xlabel('cutoff weight at maximum')\n",
      "plt.ylabel('maximum of scoring function')\n",
      "plt.show()\n",
      "\n",
      "pd.DataFrame(data = zip(threshold_list, max_score_list)).describe()"
     ],
     "language": "python",
     "metadata": {},
     "outputs": [
      {
       "metadata": {},
       "output_type": "display_data",
       "png": "[encoded data removed]",
       "text": [
        "<matplotlib.figure.Figure at 0x239a1e10>"
       ]
      },
      {
       "html": [
        "<div style=\"max-height:1000px;max-width:1500px;overflow:auto;\">\n",
        "<table border=\"1\" class=\"dataframe\">\n",
        "  <thead>\n",
        "    <tr style=\"text-align: right;\">\n",
        "      <th></th>\n",
        "      <th>0</th>\n",
        "      <th>1</th>\n",
        "    </tr>\n",
        "  </thead>\n",
        "  <tbody>\n",
        "    <tr>\n",
        "      <th>count</th>\n",
        "      <td> 20.000000</td>\n",
        "      <td> 20.000000</td>\n",
        "    </tr>\n",
        "    <tr>\n",
        "      <th>mean</th>\n",
        "      <td>  0.042060</td>\n",
        "      <td>  2.786110</td>\n",
        "    </tr>\n",
        "    <tr>\n",
        "      <th>std</th>\n",
        "      <td>  0.005980</td>\n",
        "      <td>  0.040848</td>\n",
        "    </tr>\n",
        "    <tr>\n",
        "      <th>min</th>\n",
        "      <td>  0.032296</td>\n",
        "      <td>  2.722900</td>\n",
        "    </tr>\n",
        "    <tr>\n",
        "      <th>25%</th>\n",
        "      <td>  0.036709</td>\n",
        "      <td>  2.752806</td>\n",
        "    </tr>\n",
        "    <tr>\n",
        "      <th>50%</th>\n",
        "      <td>  0.042773</td>\n",
        "      <td>  2.784008</td>\n",
        "    </tr>\n",
        "    <tr>\n",
        "      <th>75%</th>\n",
        "      <td>  0.046126</td>\n",
        "      <td>  2.815436</td>\n",
        "    </tr>\n",
        "    <tr>\n",
        "      <th>max</th>\n",
        "      <td>  0.051161</td>\n",
        "      <td>  2.899271</td>\n",
        "    </tr>\n",
        "  </tbody>\n",
        "</table>\n",
        "</div>"
       ],
       "metadata": {},
       "output_type": "pyout",
       "prompt_number": 24,
       "text": [
        "               0          1\n",
        "count  20.000000  20.000000\n",
        "mean    0.042060   2.786110\n",
        "std     0.005980   0.040848\n",
        "min     0.032296   2.722900\n",
        "25%     0.036709   2.752806\n",
        "50%     0.042773   2.784008\n",
        "75%     0.046126   2.815436\n",
        "max     0.051161   2.899271"
       ]
      }
     ],
     "prompt_number": 24
    },
    {
     "cell_type": "markdown",
     "metadata": {},
     "source": [
      "### Predicting Outcomes for the Test Set\n",
      "\n",
      "In this section, I train the linear regressors for the whole training set (no more splits!), and apply the\n",
      "resulting regressors to the test set.  Instead of scoring, I build an output file in the format described \n",
      "in the Kaggle competition."
     ]
    },
    {
     "cell_type": "code",
     "collapsed": false,
     "input": [
      "# Now, build a linear regressor model with the Gaussian 8-8-8-8 split, and threshold weight of 0.043\n",
      "# We'll consider the whole training set now, and keep the fits to apply on the test set.\n",
      "\n",
      "threshold_value = 0.043\n",
      "\n",
      "jet_sets = [jet_set_0, jet_set_none_0, jet_set_1, jet_set_none_1, jet_set_2, jet_set_none_2, jet_set_3, jet_set_none_3]\n",
      "split_nums = [8, 8, 8, 8, 8, 8, 8, 8]\n",
      "\n",
      "# Fit Linear Regressors to the Whole Training Set\n",
      "\n",
      "def Simple_Linear_Regression_Fit(jet_set_data, jet_set_outcome):\n",
      "    \n",
      "    # Use logarithmic weights\n",
      "\n",
      "    weights   = jet_set_outcome['log(Weight)'].as_matrix()\n",
      "    norm_data = jet_set_data.as_matrix()\n",
      "    \n",
      "    # Fit regression model on whole set\n",
      "    \n",
      "    LinR = LinearRegression()\n",
      "    LinR.fit(norm_data, weights)\n",
      "    \n",
      "    # Return trained regressor\n",
      "    \n",
      "    return LinR\n",
      "\n",
      "# Linear Regressor Prediction for Whole Test Set\n",
      "\n",
      "def Simple_Linear_Regression_Predict(jet_set_data, LinR):\n",
      "\n",
      "    # Index (eventIDs) for data\n",
      "    \n",
      "    event_index = jet_set_data.index\n",
      "\n",
      "    # Predict log(weight) for test events\n",
      "    \n",
      "    prediction = LinR.predict(jet_set_data.as_matrix())\n",
      "   \n",
      "    # Return data frame with estimated weights for test set\n",
      "    \n",
      "    return pd.Series(data = np.exp(prediction), index = event_index, name = 'predicted weight')\n",
      "\n",
      "# Linear Regression, Using Gaussian Splits and the full data set\n",
      "\n",
      "def full_gaussian_linear(jet_sets, split_nums):\n",
      "    \n",
      "    # Assumes that the jet_sets are already determined\n",
      "    # The split_nums indicate how many Gaussian windows are used\n",
      "\n",
      "    jet_regressor_models = []\n",
      "    \n",
      "    for jets in range(0, 8):\n",
      "\n",
      "        # Progress Info:\n",
      "        print 'Predicting Outcomes for Test Set #', jets, '...',\n",
      "        \n",
      "        # Prepare Gaussian splits for test set, and create linear regressor models\n",
      "        jet_set_data, jet_set_outcome = gaussian_model_prep(jet_sets[jets], split_nums[jets])\n",
      "        jet_regressor_models.append(Simple_Linear_Regression_Fit(jet_set_data, jet_set_outcome))\n",
      "        \n",
      "        print 'done.'\n",
      "\n",
      "    # Return set of fits of linear regressor model - one for each type of set\n",
      "    \n",
      "    return jet_regressor_models"
     ],
     "language": "python",
     "metadata": {},
     "outputs": [],
     "prompt_number": 25
    },
    {
     "cell_type": "code",
     "collapsed": false,
     "input": [
      "# Train linear model (and take time required):\n",
      "\n",
      "# Start 'stopwatch'\n",
      "start_time = dt.datetime.now()\n",
      "\n",
      "# Train models\n",
      "jet_regressor_models = full_gaussian_linear(jet_sets, split_nums)\n",
      "\n",
      "# Stop 'stopwatch'\n",
      "train_time = dt.datetime.now() - start_time\n",
      "print 'Time Elapsed for Training:', train_time.seconds + train_time.microseconds / 1000000.0, 'seconds'"
     ],
     "language": "python",
     "metadata": {},
     "outputs": [
      {
       "output_type": "stream",
       "stream": "stdout",
       "text": [
        " Predicting Outcomes for Test Set # 0 ... "
       ]
      },
      {
       "output_type": "stream",
       "stream": "stdout",
       "text": [
        "done.\n",
        "Predicting Outcomes for Test Set # 1 ... "
       ]
      },
      {
       "output_type": "stream",
       "stream": "stdout",
       "text": [
        "done.\n",
        "Predicting Outcomes for Test Set # 2 ... "
       ]
      },
      {
       "output_type": "stream",
       "stream": "stdout",
       "text": [
        "done.\n",
        "Predicting Outcomes for Test Set # 3 ... "
       ]
      },
      {
       "output_type": "stream",
       "stream": "stdout",
       "text": [
        "done.\n",
        "Predicting Outcomes for Test Set # 4 ... "
       ]
      },
      {
       "output_type": "stream",
       "stream": "stdout",
       "text": [
        "done.\n",
        "Predicting Outcomes for Test Set # 5 ... "
       ]
      },
      {
       "output_type": "stream",
       "stream": "stdout",
       "text": [
        "done.\n",
        "Predicting Outcomes for Test Set # 6 ... "
       ]
      },
      {
       "output_type": "stream",
       "stream": "stdout",
       "text": [
        "done.\n",
        "Predicting Outcomes for Test Set # 7 ... "
       ]
      },
      {
       "output_type": "stream",
       "stream": "stdout",
       "text": [
        "done.\n",
        "Time Elapsed for Training: 14.992 seconds\n"
       ]
      }
     ],
     "prompt_number": 27
    },
    {
     "cell_type": "code",
     "collapsed": false,
     "input": [
      "# Now, we need to predict outcomes in the test set. \n",
      "\n",
      "# Clean up some memory first, removing the training set:\n",
      "\n",
      "del jet_sets\n",
      "del jet_set_0, jet_set_1, jet_set_2, jet_set_3\n",
      "\n",
      "# Load test set:\n",
      "\n",
      "test_file = '../test/test.csv'\n",
      "test_data_raw = pd.DataFrame.from_csv(test_file)"
     ],
     "language": "python",
     "metadata": {},
     "outputs": [],
     "prompt_number": 28
    },
    {
     "cell_type": "code",
     "collapsed": false,
     "input": [
      "# Now, do the same prep work I did for the training set:\n",
      "\n",
      "# Let's split the test set into individual sets for each jet number:\n",
      "\n",
      "jet_num_filter = (test_data_raw['PRI_jet_num'] == 0)\n",
      "jet_set_0 = test_data_raw[jet_num_filter]\n",
      "\n",
      "jet_num_filter = (test_data_raw['PRI_jet_num'] == 1)\n",
      "jet_set_1 = test_data_raw[jet_num_filter]\n",
      "\n",
      "jet_num_filter = (test_data_raw['PRI_jet_num'] == 2)\n",
      "jet_set_2 = test_data_raw[jet_num_filter]\n",
      "\n",
      "jet_num_filter = (test_data_raw['PRI_jet_num'] == 3)\n",
      "jet_set_3 = test_data_raw[jet_num_filter]\n",
      "\n",
      "# Release memory\n",
      "\n",
      "del test_data_raw\n",
      "\n",
      "# Drop undefined columns from data:\n",
      "\n",
      "jet_set_0 = clean_jet_sets(jet_set_0)\n",
      "jet_set_1 = clean_jet_sets(jet_set_1)\n",
      "jet_set_2 = clean_jet_sets(jet_set_2)\n",
      "jet_set_3 = clean_jet_sets(jet_set_3)\n",
      "\n",
      "# Clean out redundant columns\n",
      "# There's no jet in jet_set_0, so let's drop these variables, too:\n",
      "\n",
      "jet_set_0 = jet_set_0.drop(['PRI_jet_num', 'PRI_jet_all_pt'], axis = 1)\n",
      "\n",
      "# Also, 'DER_pt_h' always equals 'DER_pt_tot':\n",
      "jet_set_0 = jet_set_0.drop('DER_pt_h', axis = 1)\n",
      "\n",
      "# Similarly, there is a single jet in jet_set_1, so its transversal momentum equals the total:\n",
      "# (jet_set_1['PRI_jet_all_pt'] - jet_set_1['PRI_jet_leading_pt']).value_counts()\n",
      "\n",
      "jet_set_1 = jet_set_1.drop(['PRI_jet_num', 'PRI_jet_all_pt'], axis = 1)\n",
      "\n",
      "# For two jets, the total transversal momentum is the sum of the momentum of both jets -\n",
      "# so, there is no new information in the total\n",
      "\n",
      "jet_set_2 = jet_set_2.drop(['PRI_jet_num', 'PRI_jet_all_pt'], axis = 1)\n",
      "\n",
      "# Only the three-jet case is different:\n",
      "\n",
      "jet_set_3 = jet_set_3.drop('PRI_jet_num', axis = 1)\n",
      "\n",
      "# In both the two- and three-jet cases, the column 'DER_deltaeta_jet_jet' is simply the\n",
      "# absolute value of the difference between 'PRI_jet_leading_eta' and 'PRI_jet_subleading_eta'\n",
      "# So, at most, the sign of the difference would be of interest, as 'DER_deltaeta_jet_jet' is\n",
      "# a linear combination of the two primary data columns.  For now, simply delete:\n",
      "\n",
      "jet_set_2 = jet_set_2.drop('DER_deltaeta_jet_jet', axis = 1)\n",
      "jet_set_3 = jet_set_3.drop('DER_deltaeta_jet_jet', axis = 1)\n",
      "\n",
      "# Check that all the remaining undefined values are in the column 'DER_mass_MMC':\n",
      "\n",
      "find_undefined_values(jet_set_0)\n",
      "find_undefined_values(jet_set_1)\n",
      "find_undefined_values(jet_set_2)\n",
      "find_undefined_values(jet_set_3)\n",
      "\n",
      "# Split into sets with and w/o mass\n",
      "\n",
      "jet_set_0, jet_set_none_0 = separate_by_mass(jet_set_0)\n",
      "jet_set_1, jet_set_none_1 = separate_by_mass(jet_set_1)\n",
      "jet_set_2, jet_set_none_2 = separate_by_mass(jet_set_2)\n",
      "jet_set_3, jet_set_none_3 = separate_by_mass(jet_set_3)"
     ],
     "language": "python",
     "metadata": {},
     "outputs": [
      {
       "output_type": "stream",
       "stream": "stdout",
       "text": [
        "DER_deltaeta_jet_jet\n",
        "DER_mass_jet_jet\n",
        "DER_prodeta_jet_jet\n",
        "DER_lep_eta_centrality"
       ]
      },
      {
       "output_type": "stream",
       "stream": "stdout",
       "text": [
        "\n",
        "PRI_jet_leading_pt\n",
        "PRI_jet_leading_eta"
       ]
      },
      {
       "output_type": "stream",
       "stream": "stdout",
       "text": [
        "\n",
        "PRI_jet_leading_phi\n",
        "PRI_jet_subleading_pt"
       ]
      },
      {
       "output_type": "stream",
       "stream": "stdout",
       "text": [
        "\n",
        "PRI_jet_subleading_eta\n",
        "PRI_jet_subleading_phi\n",
        "DER_deltaeta_jet_jet"
       ]
      },
      {
       "output_type": "stream",
       "stream": "stdout",
       "text": [
        "\n",
        "DER_mass_jet_jet\n",
        "DER_prodeta_jet_jet\n",
        "DER_lep_eta_centrality"
       ]
      },
      {
       "output_type": "stream",
       "stream": "stdout",
       "text": [
        "\n",
        "PRI_jet_subleading_pt\n",
        "PRI_jet_subleading_eta"
       ]
      },
      {
       "output_type": "stream",
       "stream": "stdout",
       "text": [
        "\n",
        "PRI_jet_subleading_phi\n",
        "DER_mass_MMC"
       ]
      },
      {
       "output_type": "stream",
       "stream": "stdout",
       "text": [
        "\n",
        "DER_mass_MMC\n",
        "DER_mass_MMC\n",
        "DER_mass_MMC"
       ]
      },
      {
       "output_type": "stream",
       "stream": "stdout",
       "text": [
        "\n"
       ]
      }
     ],
     "prompt_number": 29
    },
    {
     "cell_type": "code",
     "collapsed": false,
     "input": [
      "# Time to do Linear Regression with Gaussian Splits, using the fitted models from the test set.\n",
      "\n",
      "def fit_gaussian_linear(jet_sets, split_nums, jet_regressor_models):\n",
      "    \n",
      "    # Assumes that the jet_sets are already determined\n",
      "    # The split_nums indicate how many Gaussian windows are used\n",
      "\n",
      "    results = pd.Series(name = 'predicted weight')\n",
      "    \n",
      "    for jets in range(0, 8):\n",
      "    \n",
      "        # Mark progress\n",
      "        print 'Predicting Weights for Test Set #', jets, '...',\n",
      "        \n",
      "        # Prepare test set data\n",
      "        jet_set_data, jet_set_outcome = gaussian_model_prep(jet_sets[jets], split_nums[jets], 'predict')\n",
      "        \n",
      "        # Predict weights for events\n",
      "        jet_results = Simple_Linear_Regression_Predict(jet_set_data, jet_regressor_models[jets])\n",
      "        results = results.append(jet_results)\n",
      "        \n",
      "        print 'done.'      \n",
      "\n",
      "    # Return indexed set of weights estimated by linear regression\n",
      "    \n",
      "    return results\n",
      "\n",
      "# Create a pandas data frame containing rank and estimated event type, sorted by eventID\n",
      "# (as requested by the submission format)\n",
      "\n",
      "def build_submission_file(results, threshold_value):\n",
      "\n",
      "    # Progress message\n",
      "    print 'Building Submission File ...',\n",
      "    \n",
      "    # Sort the weight table by estimated weight, create list of weights in ascending order:\n",
      "\n",
      "    results.sort()\n",
      "    results_sorted = list(results)\n",
      "\n",
      "    # Build a list of ranks ('countdown - style' since strongest signal has highest rank)\n",
      "    \n",
      "    ranks = [event for event in range(len(results), 0, -1)]\n",
      "    \n",
      "    #  Put rank and estimated weight together in a data frame, with EventId's as index:\n",
      "    \n",
      "    prediction_index = results.index.rename('EventId')\n",
      "    prediction = pd.DataFrame(data = zip(ranks, results_sorted), index = prediction_index, columns = ['RankOrder', 'Weight'])\n",
      "    prediction.index.rename\n",
      "    \n",
      "    # Third, sort by index:\n",
      "    \n",
      "    prediction = prediction.sort_index()\n",
      "    \n",
      "    # Fourth, create list of labels\n",
      "    \n",
      "    def class_label(weight):\n",
      "        if (weight > threshold_value):\n",
      "            return 'b'\n",
      "        else:\n",
      "            return 's'    \n",
      "    \n",
      "    prediction['Class'] = prediction['Weight'].apply(class_label)\n",
      "    \n",
      "    # Fifth, drop weights:\n",
      "    \n",
      "    prediction = prediction.drop('Weight', axis = 1)\n",
      "\n",
      "    # Return results\n",
      "    print 'done.'\n",
      "    \n",
      "    return prediction\n"
     ],
     "language": "python",
     "metadata": {},
     "outputs": [],
     "prompt_number": 30
    },
    {
     "cell_type": "code",
     "collapsed": false,
     "input": [
      "# Actually perform fitting/predicting procedure\n",
      "\n",
      "# Start 'stopwatch'\n",
      "start_time = dt.datetime.now()\n",
      "\n",
      "# Predict weights for test set\n",
      "jet_sets = [jet_set_0, jet_set_none_0, jet_set_1, jet_set_none_1, jet_set_2, jet_set_none_2, jet_set_3, jet_set_none_3]\n",
      "results = fit_gaussian_linear(jet_sets, split_nums, jet_regressor_models)\n",
      "\n",
      "# Build submission file\n",
      "data_submit = build_submission_file(results, threshold_value)\n",
      "\n",
      "# Stop 'stopwatch'\n",
      "test_time = dt.datetime.now() - start_time\n",
      "print 'Time Elapsed for Prediction:', test_time.seconds + test_time.microseconds / 1000000.0, 'seconds'"
     ],
     "language": "python",
     "metadata": {},
     "outputs": [
      {
       "output_type": "stream",
       "stream": "stdout",
       "text": [
        "Predicting Weights for Test Set # 0 ... "
       ]
      },
      {
       "output_type": "stream",
       "stream": "stdout",
       "text": [
        "done.\n",
        "Predicting Weights for Test Set # 1 ... "
       ]
      },
      {
       "output_type": "stream",
       "stream": "stdout",
       "text": [
        "done.\n",
        "Predicting Weights for Test Set # 2 ... "
       ]
      },
      {
       "output_type": "stream",
       "stream": "stdout",
       "text": [
        "done.\n",
        "Predicting Weights for Test Set # 3 ... "
       ]
      },
      {
       "output_type": "stream",
       "stream": "stdout",
       "text": [
        "done.\n",
        "Predicting Weights for Test Set # 4 ... "
       ]
      },
      {
       "output_type": "stream",
       "stream": "stdout",
       "text": [
        "done.\n",
        "Predicting Weights for Test Set # 5 ... "
       ]
      },
      {
       "output_type": "stream",
       "stream": "stdout",
       "text": [
        "done.\n",
        "Predicting Weights for Test Set # 6 ... "
       ]
      },
      {
       "output_type": "stream",
       "stream": "stdout",
       "text": [
        "done.\n",
        "Predicting Weights for Test Set # 7 ... "
       ]
      },
      {
       "output_type": "stream",
       "stream": "stdout",
       "text": [
        "done.\n",
        "Building Submission File ... "
       ]
      },
      {
       "output_type": "stream",
       "stream": "stdout",
       "text": [
        "done.\n",
        "Time Elapsed for Prediction: 26.876 seconds\n"
       ]
      }
     ],
     "prompt_number": 31
    },
    {
     "cell_type": "markdown",
     "metadata": {},
     "source": [
      "### Create Submission File"
     ]
    },
    {
     "cell_type": "code",
     "collapsed": false,
     "input": [
      "# Compare predicted signal vs. background events\n",
      "\n",
      "data_submit['Class'].value_counts()"
     ],
     "language": "python",
     "metadata": {},
     "outputs": [
      {
       "metadata": {},
       "output_type": "pyout",
       "prompt_number": 32,
       "text": [
        "b    408524\n",
        "s    141476\n",
        "dtype: int64"
       ]
      }
     ],
     "prompt_number": 32
    },
    {
     "cell_type": "code",
     "collapsed": false,
     "input": [
      "# Write file to disk\n",
      "\n",
      "submission_name = '../submission/linear_gaussian_model_submission.csv'\n",
      "data_submit.to_csv(path_or_buf = submission_name)"
     ],
     "language": "python",
     "metadata": {},
     "outputs": [],
     "prompt_number": 33
    },
    {
     "cell_type": "code",
     "collapsed": false,
     "input": [
      "# All done!"
     ],
     "language": "python",
     "metadata": {},
     "outputs": [],
     "prompt_number": 34
    }
   ],
   "metadata": {}
  }
 ]
}